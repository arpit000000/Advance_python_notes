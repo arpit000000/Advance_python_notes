{
 "cells": [
  {
   "cell_type": "markdown",
   "id": "cdcc580d",
   "metadata": {},
   "source": [
    "Class:A class is a blueprint or a template for creating objects. It defines a set of attributes (data) and methods (functions) that the objects of the class can have.\n",
    "    In python everything is an object or an instance of some class. ex. all integer are instance of class int.\n",
    "    it start with a keyword class followed by a class name and a colon(:).\n",
    "    it is the collection of object.\n",
    "    it is user defined data type that behave same as built in data type\n",
    "Some built in class: 1.str 2.int 3. list 4. dict 5. DateTime\n"
   ]
  },
  {
   "cell_type": "markdown",
   "id": "01c5adbe",
   "metadata": {},
   "source": [
    "Object: An object is an instance of a class.Each object has its own unique set of attributes, which are determined by the class it belongs to. When we define a class it needs to  create an object to allocate memory.\n",
    "    one class is declared a programmer can create any number of objects of that class.    \n",
    "the __init__ method allows you to initialize the attributes of an object when it is created, and the self parameter is used within class methods to refer to the instance of the class and access its attributes and methods."
   ]
  },
  {
   "cell_type": "code",
   "execution_count": 53,
   "id": "bb238483",
   "metadata": {},
   "outputs": [
    {
     "name": "stdout",
     "output_type": "stream",
     "text": [
      "Arpit\n"
     ]
    }
   ],
   "source": [
    "class Student:\n",
    "    def __init__(self,a):#constructor\n",
    "        self.name=a\n",
    "    def get(self):\n",
    "        print(self.name)\n",
    "obj=Student('Arpit')#object created #referance variable\n",
    "obj.get()"
   ]
  },
  {
   "cell_type": "markdown",
   "id": "97eea369",
   "metadata": {},
   "source": [
    "Name space is a space that holds names(identifiers) Namespaces are used in various programming languages and systems to organize and categorize identifiers (such as variables, functions, classes, etc.) and avoid naming conflicts.\n",
    "Types..\n",
    "1. Global\n",
    "2.Local\n",
    "3.Enclocing Namespace\n",
    "4.Builtin print(): Outputs text or values to the console.\n",
    "                   len(): Returns the length of an object (e.g., string, list).\n",
    "                   type(): Returns the type of an object."
   ]
  },
  {
   "cell_type": "code",
   "execution_count": 11,
   "id": "479db073",
   "metadata": {},
   "outputs": [
    {
     "name": "stdout",
     "output_type": "stream",
     "text": [
      "15\n"
     ]
    }
   ],
   "source": [
    "def outer_function():\n",
    "    x = 10  # Variable in the outer function's namespace\n",
    "\n",
    "    def inner_function():\n",
    "        y = 5  # Variable in the inner function's namespace\n",
    "        print(x + y)  # Accesses x from the enclosing namespace\n",
    "\n",
    "    inner_function()\n",
    "\n",
    "outer_function()"
   ]
  },
  {
   "cell_type": "markdown",
   "id": "3338d6b5",
   "metadata": {},
   "source": [
    "Class Variables:\n",
    "\n",
    "Class variables are variables that are shared among all instances (objects) of a class.\n",
    "They are defined within the class but outside of any instance methods or constructors.\n",
    "Class variables are accessed using the class name itself or through any instance of the class.\n",
    "They are typically used to store data that is common to all objects of a class.\n",
    "Changes to class variables are visible to all instances of the class.\n",
    "also used to count the no. of object\n",
    "Object Variables (Instance Variables):\n",
    "\n",
    "Object variables are specific to each instance (object) of a class.\n",
    "They are defined within the class and within instance methods or the constructor.\n",
    "Each object has its own copy of object variables, and changes to these variables are limited to that specific object.\n",
    "Object variables represent the unique state or properties of each object.\n",
    "\n",
    "a reference variable is a variable that holds the memory address or reference to an object rather than the actual value of the object itself. It allows us to indirectly access and manipulate the object."
   ]
  },
  {
   "cell_type": "code",
   "execution_count": 10,
   "id": "656386de",
   "metadata": {},
   "outputs": [
    {
     "name": "stdout",
     "output_type": "stream",
     "text": [
      "('Area =', 31.400000000000002, 'count', 1)\n",
      "('Area =', 25.12, 'count', 2)\n"
     ]
    }
   ],
   "source": [
    "class Circle:\n",
    "    pi=3.14#class variable\n",
    "    x=0\n",
    "    def __init__(self,radius):\n",
    "        self.radius=radius#object variable\n",
    "    def area(self):\n",
    "        Circle.x+=1\n",
    "        area=2*Circle.pi*self.radius\n",
    "        return 'Area =',area , 'count',Circle.x\n",
    "obj=Circle(5)\n",
    "obj1=Circle(4)\n",
    "print(obj.area())#we cannot acess object vaeriable by class\n",
    "print(obj1.area())"
   ]
  },
  {
   "cell_type": "markdown",
   "id": "240f2ee7",
   "metadata": {},
   "source": [
    "A constructor is a special method in object-oriented programming that is automatically called when an object is created from a class. It is used to initialize the object's attributes or perform any necessary setup operations.\n",
    "A special method is used to create the constructor __init__(magic method).\n",
    "When a constructor is not defined for a class then default constructor is used by python interpreter which has only one argument self. \n",
    "Parameterized Constructor\n",
    "Default Constructor"
   ]
  },
  {
   "cell_type": "code",
   "execution_count": 13,
   "id": "093fe1c2",
   "metadata": {},
   "outputs": [
    {
     "name": "stdout",
     "output_type": "stream",
     "text": [
      "Arpit\n"
     ]
    }
   ],
   "source": [
    "class my:\n",
    "    def hello(self,a):\n",
    "        print(a)\n",
    "obj=my()\n",
    "obj.hello('Arpit')"
   ]
  },
  {
   "cell_type": "markdown",
   "id": "f18d5873",
   "metadata": {},
   "source": [
    "Dunder Method?\n",
    "\n",
    "Dunder (short for \"double underscore\") methods, also known as magic methods or special methods, they are predefined methods in Python classes that provide special functionality and behavior. These methods are identified by the use of double underscores before and after the method name, such as __init__, __str__, __add__, etc.\n",
    "\n",
    "Dunder methods allow you to define how your objects should behave in response to specific operations or built-in functions. By implementing these methods in your class, you can customize the behavior of your objects and make them behave like built-in types or respond to certain operators.\n",
    "\n",
    "Here are some commonly used dunder methods and their purposes:\n",
    "\n",
    "__init__(self, ...): The constructor method, called when an object is created. It initializes the object's attributes and performs any necessary setup.\n",
    "\n",
    "__str__(self): Returns a string representation of the object. It is invoked by the built-in str() function and provides a human-readable representation of the object.\n",
    "\n",
    "__repr__(self): Returns a string representation of the object that can be used to recreate the object. It is invoked by the built-in repr() function.\n",
    "\n",
    "__len__(self): Returns the length of the object. It is invoked by the built-in len() function.\n",
    "\n",
    "__getitem__(self, key): Enables object indexing and allows accessing elements using square brackets ([]).\n",
    "\n",
    "__setitem__(self, key, value): Enables assignment of values to object elements using square brackets ([]).\n",
    "\n",
    "__add__(self, other): Enables the addition of objects using the + operator.\n",
    "\n",
    "__sub__(self, other): Enables the subtraction of objects using the - operator.\n",
    "\n",
    "__eq__(self, other): Defines the equality comparison between objects using the == operator.\n",
    "\n",
    "__lt__(self, other): Defines the less-than comparison between objects using the < operator.\n",
    "\n",
    "__gt__(self, other): Defines the greater-than comparison between objects using the > operator.\n",
    "\n",
    "__ge__(self, other) (Greater Than or Equal To):\n",
    "\n",
    "Purpose: This method is used to define the behavior of the greater than or equal to comparison operator (>=) between two objects.\n",
    "\n",
    "__ne__(self, other) (Not Equal To):\n",
    "\n",
    "Purpose: This method is used to define the behavior of the not equal to comparison operator (!=) between two objects.\n",
    "\n",
    "__new__(cls, *args, **kwargs):\n",
    "\n",
    "Purpose: This method is responsible for creating and returning a new instance of a class. It is called before the __init__ method it called when object is created.\n",
    "__call__\n",
    "The __call__ method is a magic method in Python that allows an object to be called as a function. It provides the functionality to make an instance of a class callable, just like a regular function."
   ]
  },
  {
   "cell_type": "code",
   "execution_count": 104,
   "id": "492116bc",
   "metadata": {},
   "outputs": [],
   "source": [
    "class Person:\n",
    "    def __init__(self,name,age):\n",
    "        self.name=name\n",
    "        self.age=age\n",
    "    def __str__(self):#return informal string representation\n",
    "        return f\"Person: {self.name}, Age: {self.age}\"\n",
    "    def __repr__(self):#return formal string representation\n",
    "        return f\"Person: {self.name}, Age: {self.age}\"\n",
    "    def __len__(self):\n",
    "        return self.age\n",
    "    def __getitem__(self,index):\n",
    "        if index==0:\n",
    "            return self.name\n",
    "        elif index==1:\n",
    "            return self.age\n",
    "        else:\n",
    "            raise IndexError(\"Invalid index\")\n",
    "    def __setitem__(self,index,value):\n",
    "        if index==0:\n",
    "            self.name=value\n",
    "        elif index==1:\n",
    "            self.age=value\n",
    "        else:\n",
    "            raise IndexError(\"Invalid index\")\n",
    "    def __add__(self,other):\n",
    "        if isinstance(other,Person):\n",
    "            total=self.age+other.age\n",
    "            return Person('Combine',total)\n",
    "    def __sub__(self, other):\n",
    "        if isinstance(other, Person):\n",
    "            diff = self.age - other.age\n",
    "            return Person(\"Difference\", diff)\n",
    "        else:\n",
    "            raise TypeError(\"Unsupported operand type\")\n",
    "    def __eq__(self, other):\n",
    "        if isinstance(other, Person):\n",
    "            return self.name == other.name and self.age == other.age\n",
    "        return False\n",
    "    def __lt__(self,other):\n",
    "        if isinstance(other,Person):\n",
    "            return self.age<other.age\n",
    "    def __gt__(self,other):\n",
    "        if isinstance(other, Person):\n",
    "            return self.age > other.age\n",
    "        return NotImplemented\n",
    "    def __ne__(self, other):\n",
    "        return self.name != other.name\n",
    "    def __ge__(self, other):\n",
    "        return self.age >= other.age\n",
    "    def __call__(self,other):\n",
    "        return self.age + other.age"
   ]
  },
  {
   "cell_type": "code",
   "execution_count": 103,
   "id": "d6d69ece",
   "metadata": {},
   "outputs": [
    {
     "name": "stdout",
     "output_type": "stream",
     "text": [
      "20\n",
      "Person: Arpit, Age: 20\n",
      "Person: Aryan, Age: 17\n",
      "17\n",
      "18\n",
      "Person: Combine, Age: 38\n",
      "Person: Difference, Age: 2\n",
      "False\n",
      "True\n",
      "True\n",
      "True\n",
      "True\n"
     ]
    }
   ],
   "source": [
    "person1=Person('Arpit',20)\n",
    "person2=Person('Aryan',17)\n",
    "person3=person1\n",
    "print(person1[1])\n",
    "print(repr(person1))\n",
    "print(str(person2))\n",
    "print(len(person2))\n",
    "person2[1]=18\n",
    "print(person2[1])\n",
    "print(person1+person2)\n",
    "print(person1-person2)\n",
    "print(person1<person2)\n",
    "print(person1>person2)\n",
    "print(person1==person3)\n",
    "print(person1!=person2)\n",
    "print(person1>=person2)\n",
    "print(person1+person2)"
   ]
  },
  {
   "cell_type": "code",
   "execution_count": 105,
   "id": "3ad5e232",
   "metadata": {},
   "outputs": [
    {
     "name": "stdout",
     "output_type": "stream",
     "text": [
      "5\n"
     ]
    }
   ],
   "source": [
    "class Adder:\n",
    "    def __call__(self, a, b):\n",
    "        return a + b\n",
    "\n",
    "adder = Adder()\n",
    "result = adder(2, 3)\n",
    "print(result)"
   ]
  },
  {
   "cell_type": "markdown",
   "id": "5f8333b1",
   "metadata": {},
   "source": [
    "In Python, a decorator is a design pattern that allows you to modify the behavior of a function or class without directly changing its source code. Decorators provide a way to add functionality to existing functions or classes dynamically.\n",
    "\n",
    "A decorator is defined using the @ symbol followed by the decorator name, which is placed above the function or class declaration."
   ]
  },
  {
   "cell_type": "markdown",
   "id": "972eb249",
   "metadata": {},
   "source": [
    "An instance method is a type of method in object-oriented programming that operates on an instance of a class. It is defined within a class and is typically invoked on an instance of that class. \n",
    "The first parameter of an instance method is conventionally named self, which refers to the specific instance of the class. It provides a reference to the instance itself, allowing access to its attributes and methods."
   ]
  },
  {
   "cell_type": "code",
   "execution_count": 79,
   "id": "07fb1b55",
   "metadata": {},
   "outputs": [
    {
     "name": "stdout",
     "output_type": "stream",
     "text": [
      "Arpit\n"
     ]
    }
   ],
   "source": [
    "class Student:\n",
    "    def __init__(self,a):\n",
    "        self.name=a\n",
    "    def get(self):\n",
    "        print(self.name)\n",
    "obj=Student('Arpit')#instance created\n",
    "obj.get()"
   ]
  },
  {
   "cell_type": "markdown",
   "id": "d061738e",
   "metadata": {},
   "source": [
    " Class method is directly called by class name and it does not need any object to call. and the first argument of its is cls (class itself) not self as ordinary method. a class method is a method that is bound to the class and not the instance of the class. It can be called on the class itself or on any instance of the class. Class methods are defined using the @classmethod decorator.\n",
    "Scope: The cls parameter provides access to the class-level attributes and methods. It allows manipulation of class-level data."
   ]
  },
  {
   "cell_type": "code",
   "execution_count": 68,
   "id": "090edf37",
   "metadata": {},
   "outputs": [
    {
     "name": "stdout",
     "output_type": "stream",
     "text": [
      "Arpit\n",
      "Arpit\n",
      "Aryan\n",
      "Arpit\n"
     ]
    }
   ],
   "source": [
    "class Student:\n",
    "    name='Arpit'\n",
    "    def __init__(self,name):\n",
    "        self.name=name\n",
    "    @classmethod\n",
    "    def show(cls):\n",
    "        print(cls.name)\n",
    "obj=Student('Aryan')\n",
    "obj.show()\n",
    "print(Student.name)\n",
    "print(obj.name)\n",
    "Student.show()"
   ]
  },
  {
   "cell_type": "markdown",
   "id": "6f583d6f",
   "metadata": {},
   "source": [
    "#staticmethod it is a special method it is similar to class method the main difference is it does not required the any additional argument like cls,self. In Python, a static method is a method that belongs to a class and does not have access to the instance or class variables. It is defined using the @staticmethod decorator."
   ]
  },
  {
   "cell_type": "code",
   "execution_count": 78,
   "id": "d421d609",
   "metadata": {},
   "outputs": [
    {
     "name": "stdout",
     "output_type": "stream",
     "text": [
      "your multiply is: 30\n",
      "your addition is: 134\n"
     ]
    }
   ],
   "source": [
    "class Maths:\n",
    "    def __init__(self):\n",
    "        print(\"Welcome\")\n",
    "    @staticmethod\n",
    "    def mul(a,b):\n",
    "        print(\"your multiply is:\",a*b)\n",
    "    @staticmethod\n",
    "    def add(a,b):\n",
    "        print(\"your addition is:\",a+b)\n",
    "Maths.mul(5,6)\n",
    "Maths.add(129,5)"
   ]
  },
  {
   "cell_type": "code",
   "execution_count": 2,
   "id": "202e913b",
   "metadata": {},
   "outputs": [
    {
     "name": "stdout",
     "output_type": "stream",
     "text": [
      "Arpit start with a vowel\n",
      "Plaster not starts with vowel\n",
      "Of start with a vowel\n",
      "America start with a vowel\n"
     ]
    }
   ],
   "source": [
    "#Q.write a static method that checks whether all words in a list starts with a vowel.\n",
    "class Check:\n",
    "    l1=['a','e','i','o','u','A','E','I','O','U']\n",
    "    @staticmethod\n",
    "    def check(l):\n",
    "        for i in l:\n",
    "            if i[0] in Check.l1:\n",
    "                print( f'{i} start with a vowel')\n",
    "            else:\n",
    "                print( f'{i} not starts with vowel')\n",
    "obj=Check()\n",
    "obj.check(['Arpit','Plaster','Of','America'])"
   ]
  },
  {
   "cell_type": "markdown",
   "id": "55ee3dbd",
   "metadata": {},
   "source": [
    "Getter Methods:\n",
    "\n",
    "Definition: Getter methods are used to retrieve the values of attributes (variables) of a class.\n",
    "\n",
    "Naming Convention: Getter methods usually have a prefix \"get\" followed by the attribute name, adhering to the naming convention.\n",
    "Getter methods provide read-only access to the attributes\n",
    "Setter Method:\n",
    "\n",
    "Setter methods are used to modify or set the values of attributes (variables) of a class.\n",
    "\n",
    "Naming Convention: Setter methods usually have a prefix \"set\" followed by the attribute name, adhering to the naming convention.\n",
    "Setter methods provide a controlled way to modify the attribute values\n"
   ]
  },
  {
   "cell_type": "code",
   "execution_count": 95,
   "id": "10fc464b",
   "metadata": {},
   "outputs": [
    {
     "name": "stdout",
     "output_type": "stream",
     "text": [
      "Arpit\n",
      "Aryan\n"
     ]
    }
   ],
   "source": [
    "class Person:\n",
    "    def __init__(self, name):\n",
    "        self.__name = name\n",
    "    def get_name(self):\n",
    "        return self.__name\n",
    "    def set_name(self,n):\n",
    "        self.__name=n\n",
    "obj=Person('Arpit')\n",
    "print(obj.get_name())\n",
    "obj.set_name('Aryan')\n",
    "print(obj.get_name())"
   ]
  },
  {
   "cell_type": "markdown",
   "id": "2d23123c",
   "metadata": {},
   "source": [
    "Name mangling is a mechanism in Python that modifies the names of class attributes to make them more \"private\" or \"protected\" by adding a prefix to the attribute name. This is done by prefixing the attribute name with two underscores (__) but without trailing underscores.\n",
    "\n",
    "The most basic difference between data hiding and encapsulation is that data hiding focuses on data security, while encapsulation focuses on hiding the complexity of the system.\n",
    "\n",
    "Encapsulation is a method that helps wrapping up of data into a single module.by which reduce complexibility of code and ensure data is only accessible through specific methods.  Encapsulation brings together the data and the methods that manipulate the data into a single component and protects them from outside interference.\n",
    "\n",
    "Benifits:\n",
    "\n",
    "1.Data Protection: Encapsulation helps protect data by hiding the internal implementation details of a class. It allows you to define data members as private, which can only be accessed and modified through public methods.\n",
    "\n",
    "2.Information Hiding: Encapsulation enables you to hide the complexity of the underlying implementation and expose only essential information through well-defined interfaces\n",
    "\n",
    "3.Flexibility and Modularity: Encapsulation promotes flexibility and modularity in software development. By encapsulating data and behavior within classes, you can modify the internal implementation of a class without affecting other parts of the program that rely on its interface\n",
    "\n",
    "4.Code Reusability: Encapsulation supports code reusability. Once you have defined a class with its data and methods, you can create multiple instances of that class and reuse them in different parts of your program.\n",
    "\n",
    "Data hiding, also known as information hiding, is a principle within encapsulation that involves restricting the direct access to the internal data of a class from outside code.It is associated with data security.The data is always private and inaccessible."
   ]
  },
  {
   "cell_type": "code",
   "execution_count": 111,
   "id": "abfefddc",
   "metadata": {},
   "outputs": [
    {
     "name": "stdout",
     "output_type": "stream",
     "text": [
      "1200\n",
      "800\n",
      "private hai ye\n"
     ]
    }
   ],
   "source": [
    "class Atm:\n",
    "    def __init__(self):\n",
    "        self.__max_price=1200\n",
    "    def setter(self,price):\n",
    "        self.__max_price=price\n",
    "    def getter(self):\n",
    "        return self.__max_price\n",
    "    def __fun(self):\n",
    "        return 'private hai ye'\n",
    "obj=Atm()\n",
    "print(obj.getter())\n",
    "obj.setter(800)\n",
    "print(obj.getter())\n",
    "print(obj._Atm__fun())#this is name mangling"
   ]
  },
  {
   "cell_type": "markdown",
   "id": "0ea4517f",
   "metadata": {},
   "source": [
    "Create a time class and initialize it with hours and minutes 1. implement the suitable magic method to add the two object of Time class 2. Design the magic method to display the time in the format hrs 15, mins-23 3. implement a method displayminutes() which should display the total time in the minute"
   ]
  },
  {
   "cell_type": "code",
   "execution_count": 121,
   "id": "4424a678",
   "metadata": {},
   "outputs": [
    {
     "name": "stdout",
     "output_type": "stream",
     "text": [
      "('time in minute :', 334)\n",
      "hrs-10 , mins-39\n",
      "hrs-4 , mins-65\n"
     ]
    }
   ],
   "source": [
    "class Time:\n",
    "    def __init__(self,hour,minute):\n",
    "        self.hours=hour\n",
    "        self.minutes=minute\n",
    "    def __add__(self,other):\n",
    "        total_min=(self.hours*60)+(other.hours*60)+self.minutes+other.minutes\n",
    "        new_hour=total_min//60\n",
    "        new_min=total_min%60\n",
    "        return Time(new_hour, new_min)\n",
    "    def __str__(self):\n",
    "        return f'hrs-{self.hours} , mins-{self.minutes}'\n",
    "    def displayminute(self):\n",
    "        total_min=self.hours*60+self.minutes\n",
    "        return 'time in minute :',total_min\n",
    "obj1=Time(5,34)     \n",
    "print(obj1.displayminute())\n",
    "obj2=Time(4,65)\n",
    "print(obj1+obj2)\n",
    "print(obj2)"
   ]
  },
  {
   "cell_type": "markdown",
   "id": "bd64c22c",
   "metadata": {},
   "source": [
    "Write a program create a class Distance that represents a distance  in inch feet system use magic method to add two distance object"
   ]
  },
  {
   "cell_type": "code",
   "execution_count": 5,
   "id": "f3afb9e1",
   "metadata": {},
   "outputs": [
    {
     "name": "stdout",
     "output_type": "stream",
     "text": [
      "12 feets, 4 inches\n",
      "24 feets, 1 inches\n"
     ]
    }
   ],
   "source": [
    "class Distance:\n",
    "    def __init__(self,feet,inch):\n",
    "        self.feet=feet\n",
    "        self.inch=inch\n",
    "    def __add__(self,other):\n",
    "        feet=self.feet+other.feet\n",
    "        inch=self.inch+other.inch\n",
    "        if inch >= 12:\n",
    "            feet += inch // 12\n",
    "            inch = inch % 12\n",
    "\n",
    "        return Distance(feet, inch)\n",
    "    def __str__(self):\n",
    "        return f'{self.feet} feets, {self.inch} inches'\n",
    "obj=Distance(12,4)\n",
    "obj1=Distance(11,9)\n",
    "print(obj)\n",
    "print(obj+obj1)"
   ]
  },
  {
   "cell_type": "code",
   "execution_count": null,
   "id": "3dd7b614",
   "metadata": {},
   "outputs": [],
   "source": [
    "\n"
   ]
  },
  {
   "cell_type": "code",
   "execution_count": null,
   "id": "8a7ac135",
   "metadata": {},
   "outputs": [],
   "source": []
  }
 ],
 "metadata": {
  "kernelspec": {
   "display_name": "Python 3 (ipykernel)",
   "language": "python",
   "name": "python3"
  },
  "language_info": {
   "codemirror_mode": {
    "name": "ipython",
    "version": 3
   },
   "file_extension": ".py",
   "mimetype": "text/x-python",
   "name": "python",
   "nbconvert_exporter": "python",
   "pygments_lexer": "ipython3",
   "version": "3.11.1"
  }
 },
 "nbformat": 4,
 "nbformat_minor": 5
}
