{
 "cells": [
  {
   "cell_type": "code",
   "execution_count": 1,
   "id": "dca49b23",
   "metadata": {},
   "outputs": [],
   "source": [
    "import numpy as np"
   ]
  },
  {
   "cell_type": "code",
   "execution_count": 21,
   "id": "e3e99860",
   "metadata": {},
   "outputs": [
    {
     "name": "stdout",
     "output_type": "stream",
     "text": [
      "[[1 2 3]\n",
      " [4 5 6]\n",
      " [7 8 9]]\n",
      "int64\n",
      "<class 'numpy.ndarray'>\n",
      "2\n",
      "3\n",
      "8\n",
      "72\n",
      "(3, 3)\n"
     ]
    }
   ],
   "source": [
    "a=np.array([[1,2,3],[4,5,6],[7,8,9]],dtype='int64')\n",
    "print(a)\n",
    "print(a.dtype)\n",
    "print(type(a))\n",
    "print(a.ndim)\n",
    "print(len(a))\n",
    "print(a.itemsize)\n",
    "print(a.nbytes)\n",
    "print(a.shape)"
   ]
  },
  {
   "cell_type": "code",
   "execution_count": 49,
   "id": "8246ac10",
   "metadata": {},
   "outputs": [
    {
     "name": "stdout",
     "output_type": "stream",
     "text": [
      "[ 5  8 11 14 17 20 23 26 29 32 35 38 41 44 47 50]\n",
      "16\n",
      "[[ 5  8 11 14]\n",
      " [17 20 23 26]\n",
      " [29 32 35 38]\n",
      " [41 44 47 50]]\n",
      "[[[ 5  8]\n",
      "  [11 14]]\n",
      "\n",
      " [[17 20]\n",
      "  [23 26]]\n",
      "\n",
      " [[29 32]\n",
      "  [35 38]]\n",
      "\n",
      " [[41 44]\n",
      "  [47 50]]]\n",
      "16\n",
      "(4, 2, 2)\n",
      "64\n",
      "4\n",
      "3\n",
      "int32\n"
     ]
    }
   ],
   "source": [
    "a=np.arange(5,51,3)\n",
    "print(a)\n",
    "print(a.size)\n",
    "b=a.reshape(4,4)\n",
    "print(b)\n",
    "c=b.reshape(4,2,2)\n",
    "print(c)\n",
    "print(c.size)\n",
    "print(c.shape)\n",
    "print(c.nbytes)\n",
    "print(c.itemsize)\n",
    "print(c.ndim)\n",
    "print(c.dtype)"
   ]
  },
  {
   "cell_type": "code",
   "execution_count": 38,
   "id": "8ef08bf5",
   "metadata": {},
   "outputs": [
    {
     "name": "stdout",
     "output_type": "stream",
     "text": [
      "[[0. 0.]\n",
      " [0. 0.]] [[nan nan nan]\n",
      " [nan nan nan]] [[1. 1. 1.]\n",
      " [1. 1. 1.]] [[1. 0. 0.]\n",
      " [0. 1. 0.]\n",
      " [0. 0. 1.]]\n",
      "[[1 0 0]\n",
      " [0 1 0]\n",
      " [0 0 1]]\n"
     ]
    }
   ],
   "source": [
    "a=np.zeros((2,2))\n",
    "b=np.full((2,3),np.nan)\n",
    "c=np.ones((2,3))\n",
    "d=np.eye(3)\n",
    "e=d.astype('int')\n",
    "print(a,b,c,d)\n",
    "print(e)"
   ]
  },
  {
   "cell_type": "code",
   "execution_count": 50,
   "id": "3e6f4948",
   "metadata": {},
   "outputs": [
    {
     "data": {
      "text/plain": [
       "array([[[ 5,  8],\n",
       "        [11, 14]],\n",
       "\n",
       "       [[17, 20],\n",
       "        [23, 26]],\n",
       "\n",
       "       [[29, 32],\n",
       "        [35, 38]],\n",
       "\n",
       "       [[41, 44],\n",
       "        [47, 50]]])"
      ]
     },
     "execution_count": 50,
     "metadata": {},
     "output_type": "execute_result"
    }
   ],
   "source": [
    "c"
   ]
  },
  {
   "cell_type": "code",
   "execution_count": 54,
   "id": "7f6de768",
   "metadata": {},
   "outputs": [
    {
     "name": "stdout",
     "output_type": "stream",
     "text": [
      "[ 5  8 11 14 17 20 23 26 29 32 35 38 41 44 47 50]\n",
      "[  5   8  11  14  17 100  23  26  29  32  35  38  41  44  47  50]\n",
      "[[[ 5  8]\n",
      "  [11 14]]\n",
      "\n",
      " [[17 20]\n",
      "  [23 26]]\n",
      "\n",
      " [[29 32]\n",
      "  [35 38]]\n",
      "\n",
      " [[41 44]\n",
      "  [47 50]]]\n"
     ]
    }
   ],
   "source": [
    "a=c.flatten()\n",
    "print(a)\n",
    "a[5]=100\n",
    "print(a)\n",
    "print(c)"
   ]
  },
  {
   "cell_type": "code",
   "execution_count": 57,
   "id": "007de5cb",
   "metadata": {},
   "outputs": [
    {
     "name": "stdout",
     "output_type": "stream",
     "text": [
      "[ 5  8 11 14 17 20 23 26 29 32 35 38 41 44 47 50]\n",
      "[  5   8  11 200  17  20  23  26  29  32  35  38  41  44  47  50]\n",
      "[[[  5   8]\n",
      "  [ 11 200]]\n",
      "\n",
      " [[ 17  20]\n",
      "  [ 23  26]]\n",
      "\n",
      " [[ 29  32]\n",
      "  [ 35  38]]\n",
      "\n",
      " [[ 41  44]\n",
      "  [ 47  50]]]\n"
     ]
    }
   ],
   "source": [
    "b=c.ravel()\n",
    "print(b)\n",
    "b[3]=200\n",
    "print(b)\n",
    "print(c)"
   ]
  },
  {
   "cell_type": "code",
   "execution_count": 84,
   "id": "0cfa8869",
   "metadata": {},
   "outputs": [
    {
     "name": "stdout",
     "output_type": "stream",
     "text": [
      "[[ 1  2  3  4]\n",
      " [ 5  6  7  8]\n",
      " [ 9 10 11 12]]\n",
      "3\n",
      "[5 6 7 8]\n",
      "[[12 11 10  9]\n",
      " [ 8  7  6  5]\n",
      " [ 4  3  2  1]]\n"
     ]
    }
   ],
   "source": [
    "a=np.arange(1,13).reshape(3,4)\n",
    "print(a)\n",
    "print(a[0][2])\n",
    "print(a[1])\n",
    "print(a[::-1,::-1])"
   ]
  },
  {
   "cell_type": "code",
   "execution_count": 85,
   "id": "90ff45f7",
   "metadata": {},
   "outputs": [
    {
     "name": "stdout",
     "output_type": "stream",
     "text": [
      "[[[  5   8]\n",
      "  [ 11 200]]\n",
      "\n",
      " [[ 17  20]\n",
      "  [ 23  26]]\n",
      "\n",
      " [[ 29  32]\n",
      "  [ 35  38]]\n",
      "\n",
      " [[ 41  44]\n",
      "  [ 47  50]]]\n",
      "26\n",
      "[[26 23]\n",
      " [20 17]]\n"
     ]
    }
   ],
   "source": [
    "print(c)\n",
    "print(c[1][1][1])\n",
    "print(c[1][::-1,::-1])"
   ]
  },
  {
   "cell_type": "code",
   "execution_count": 170,
   "id": "1fdd086b",
   "metadata": {},
   "outputs": [
    {
     "name": "stdout",
     "output_type": "stream",
     "text": [
      "[[0.72861869 0.42668985 0.90276003]\n",
      " [0.73382007 0.46424807 0.57610183]\n",
      " [0.63936344 0.31858828 0.11775091]]\n",
      "[[2 5 4]\n",
      " [5 6 7]\n",
      " [3 7 3]]\n"
     ]
    }
   ],
   "source": [
    "a=np.random.rand(3,3)\n",
    "print(a)\n",
    "b=np.random.randint(2,8,size=(3,3))\n",
    "print(b)"
   ]
  },
  {
   "cell_type": "code",
   "execution_count": 171,
   "id": "2523dfab",
   "metadata": {},
   "outputs": [
    {
     "name": "stdout",
     "output_type": "stream",
     "text": [
      "[[2 5 3]\n",
      " [5 6 7]\n",
      " [4 7 3]]\n",
      "36.0\n",
      "[[-0.86111111  0.36111111  0.30555556]\n",
      " [ 0.16666667 -0.16666667  0.16666667]\n",
      " [ 0.47222222  0.02777778 -0.36111111]]\n",
      "[[ 6.29896674 12.52255279  8.60958383]\n",
      " [ 5.51718601 10.48730164  7.9133223 ]\n",
      " [ 3.22492104  5.93260329  5.14082448]]\n",
      "11\n"
     ]
    }
   ],
   "source": [
    "print(b.transpose())\n",
    "print(np.linalg.det(b))\n",
    "print(np.linalg.inv(b))\n",
    "print(np.matmul(a,b))\n",
    "print(np.trace(b))"
   ]
  },
  {
   "cell_type": "code",
   "execution_count": 172,
   "id": "31918b52",
   "metadata": {},
   "outputs": [
    {
     "name": "stdout",
     "output_type": "stream",
     "text": [
      "[3 5 3]\n",
      "[4 4 3]\n",
      "1.2222222222222223\n",
      "[ 1  3  4  5  7  8  9 10 11]\n"
     ]
    }
   ],
   "source": [
    "a=np.array([[1,2,1],[1,2,1],[1,1,1]])\n",
    "print(a.sum(axis=0))#col\n",
    "print(a.sum(axis=1))#row\n",
    "print(a.mean())\n",
    "print(a.cumsum())"
   ]
  },
  {
   "cell_type": "code",
   "execution_count": 173,
   "id": "b21de393",
   "metadata": {},
   "outputs": [
    {
     "data": {
      "text/plain": [
       "array([[1, 2, 1],\n",
       "       [1, 2, 1],\n",
       "       [1, 1, 1]])"
      ]
     },
     "execution_count": 173,
     "metadata": {},
     "output_type": "execute_result"
    }
   ],
   "source": [
    "a"
   ]
  },
  {
   "cell_type": "code",
   "execution_count": 174,
   "id": "8964498d",
   "metadata": {},
   "outputs": [
    {
     "name": "stdout",
     "output_type": "stream",
     "text": [
      "[[False  True False]\n",
      " [False  True False]\n",
      " [False False False]]\n"
     ]
    }
   ],
   "source": [
    "b=a>1\n",
    "print(b)"
   ]
  },
  {
   "cell_type": "code",
   "execution_count": 175,
   "id": "89e0878f",
   "metadata": {},
   "outputs": [],
   "source": [
    "a[b]=5"
   ]
  },
  {
   "cell_type": "code",
   "execution_count": 176,
   "id": "4604e6f6",
   "metadata": {},
   "outputs": [
    {
     "name": "stdout",
     "output_type": "stream",
     "text": [
      "[[1 5 1]\n",
      " [1 5 1]\n",
      " [1 1 1]]\n",
      "(array([0, 0, 1, 1, 2, 2, 2], dtype=int64), array([0, 2, 0, 2, 0, 1, 2], dtype=int64))\n"
     ]
    }
   ],
   "source": [
    "print(a)\n",
    "print(np.where(a==1))"
   ]
  },
  {
   "cell_type": "code",
   "execution_count": 177,
   "id": "75a68c5d",
   "metadata": {},
   "outputs": [
    {
     "name": "stdout",
     "output_type": "stream",
     "text": [
      "      Names  Rollno  Marks\n",
      "1  abhishek     100     90\n",
      "2     harsh     101     88\n",
      "3    nikhil     102     85\n"
     ]
    }
   ],
   "source": [
    "import pandas as pd\n",
    "data = {\n",
    " \"Names\" :['abhishek','harsh','nikhil'],\n",
    " \"Rollno\":[100,101,102],\n",
    " 'Marks':[90,88,85]\n",
    "}\n",
    "d=pd.DataFrame(data,index=[1,2,3])\n",
    "print(d)"
   ]
  },
  {
   "cell_type": "code",
   "execution_count": 178,
   "id": "1629789f",
   "metadata": {},
   "outputs": [
    {
     "data": {
      "text/html": [
       "<div>\n",
       "<style scoped>\n",
       "    .dataframe tbody tr th:only-of-type {\n",
       "        vertical-align: middle;\n",
       "    }\n",
       "\n",
       "    .dataframe tbody tr th {\n",
       "        vertical-align: top;\n",
       "    }\n",
       "\n",
       "    .dataframe thead th {\n",
       "        text-align: right;\n",
       "    }\n",
       "</style>\n",
       "<table border=\"1\" class=\"dataframe\">\n",
       "  <thead>\n",
       "    <tr style=\"text-align: right;\">\n",
       "      <th></th>\n",
       "      <th>0</th>\n",
       "      <th>1</th>\n",
       "      <th>2</th>\n",
       "    </tr>\n",
       "  </thead>\n",
       "  <tbody>\n",
       "    <tr>\n",
       "      <th>Name</th>\n",
       "      <td>abc</td>\n",
       "      <td>xyz</td>\n",
       "      <td>uvw</td>\n",
       "    </tr>\n",
       "    <tr>\n",
       "      <th>Roll no.</th>\n",
       "      <td>101</td>\n",
       "      <td>102</td>\n",
       "      <td>103</td>\n",
       "    </tr>\n",
       "    <tr>\n",
       "      <th>Marks</th>\n",
       "      <td>90</td>\n",
       "      <td>88</td>\n",
       "      <td>85</td>\n",
       "    </tr>\n",
       "  </tbody>\n",
       "</table>\n",
       "</div>"
      ],
      "text/plain": [
       "            0    1    2\n",
       "Name      abc  xyz  uvw\n",
       "Roll no.  101  102  103\n",
       "Marks      90   88   85"
      ]
     },
     "execution_count": 178,
     "metadata": {},
     "output_type": "execute_result"
    }
   ],
   "source": [
    "import numpy as np\n",
    "import pandas as pd\n",
    "npar=np.array([['abc','xyz','uvw'],[101,102,103],\n",
    "               [90,88,85]])\n",
    "d=pd.DataFrame(npar,index=('Name','Roll no.','Marks'))\n",
    "d"
   ]
  },
  {
   "cell_type": "code",
   "execution_count": 179,
   "id": "7cc1bcc4",
   "metadata": {},
   "outputs": [
    {
     "data": {
      "text/html": [
       "<div>\n",
       "<style scoped>\n",
       "    .dataframe tbody tr th:only-of-type {\n",
       "        vertical-align: middle;\n",
       "    }\n",
       "\n",
       "    .dataframe tbody tr th {\n",
       "        vertical-align: top;\n",
       "    }\n",
       "\n",
       "    .dataframe thead th {\n",
       "        text-align: right;\n",
       "    }\n",
       "</style>\n",
       "<table border=\"1\" class=\"dataframe\">\n",
       "  <thead>\n",
       "    <tr style=\"text-align: right;\">\n",
       "      <th></th>\n",
       "      <th>Names</th>\n",
       "      <th>Roll no.</th>\n",
       "      <th>Marks</th>\n",
       "    </tr>\n",
       "  </thead>\n",
       "  <tbody>\n",
       "    <tr>\n",
       "      <th>0</th>\n",
       "      <td>abc</td>\n",
       "      <td>101</td>\n",
       "      <td>90</td>\n",
       "    </tr>\n",
       "    <tr>\n",
       "      <th>1</th>\n",
       "      <td>xyz</td>\n",
       "      <td>102</td>\n",
       "      <td>88</td>\n",
       "    </tr>\n",
       "    <tr>\n",
       "      <th>2</th>\n",
       "      <td>uvw</td>\n",
       "      <td>103</td>\n",
       "      <td>85</td>\n",
       "    </tr>\n",
       "  </tbody>\n",
       "</table>\n",
       "</div>"
      ],
      "text/plain": [
       "  Names Roll no. Marks\n",
       "0   abc      101    90\n",
       "1   xyz      102    88\n",
       "2   uvw      103    85"
      ]
     },
     "execution_count": 179,
     "metadata": {},
     "output_type": "execute_result"
    }
   ],
   "source": [
    "npar=np.array([['abc','xyz','uvw'],[101,102,103],[90,88,85]])\n",
    "npar\n",
    "ndict={'Names':npar[0],'Roll no.':npar[1],'Marks':npar[2]}\n",
    "d=pd.DataFrame(ndict)\n",
    "d"
   ]
  },
  {
   "cell_type": "code",
   "execution_count": 180,
   "id": "783ee43d",
   "metadata": {},
   "outputs": [
    {
     "name": "stdout",
     "output_type": "stream",
     "text": [
      "RangeIndex(start=0, stop=3, step=1)\n",
      "Index(['Names', 'Roll no.', 'Marks'], dtype='object')\n",
      "0    abc\n",
      "1    xyz\n",
      "2    uvw\n",
      "Name: Names, dtype: object\n",
      "Names       uvw\n",
      "Roll no.    103\n",
      "Marks        85\n",
      "Name: 2, dtype: object\n"
     ]
    }
   ],
   "source": [
    "print(d.index)\n",
    "print(d.columns)\n",
    "print(d['Names'])\n",
    "print(d.loc[2])"
   ]
  },
  {
   "cell_type": "code",
   "execution_count": 181,
   "id": "b55551f5",
   "metadata": {},
   "outputs": [
    {
     "name": "stdout",
     "output_type": "stream",
     "text": [
      "  Names Roll no. Marks  Address\n",
      "0   abc      101    90     Agra\n",
      "1   xyz      102    88  Mathura\n",
      "2   uvw      103    85    Noida\n",
      "  Names Roll no. Marks Grade  Address\n",
      "0   abc      101    90  Good     Agra\n",
      "1   xyz      102    88  Good  Mathura\n",
      "2   uvw      103    85   Avg    Noida\n"
     ]
    }
   ],
   "source": [
    "d['Address']=['Agra','Mathura','Noida']\n",
    "print(d)\n",
    "d.insert(3,'Grade',['Good',\"Good\",'Avg'])\n",
    "print(d)\n",
    "d['New']=[1,2,3]"
   ]
  },
  {
   "cell_type": "code",
   "execution_count": 182,
   "id": "53582b93",
   "metadata": {},
   "outputs": [
    {
     "name": "stdout",
     "output_type": "stream",
     "text": [
      "  Names Roll no. Marks Grade  Address  New\n",
      "0   abc      101    90  Good     Agra    1\n",
      "1   xyz      102    88  Good  Mathura    2\n",
      "2   uvw      103    85   Avg    Noida    3\n",
      "  Names Roll no. Marks Grade  Address\n",
      "0   abc      101    90  Good     Agra\n",
      "1   xyz      102    88  Good  Mathura\n",
      "2   uvw      103    85   Avg    Noida\n"
     ]
    }
   ],
   "source": [
    "print(d)\n",
    "del d['New']\n",
    "print(d)"
   ]
  },
  {
   "cell_type": "code",
   "execution_count": 183,
   "id": "a87c2d93",
   "metadata": {},
   "outputs": [
    {
     "data": {
      "text/plain": [
       "0       Agra\n",
       "1    Mathura\n",
       "2      Noida\n",
       "Name: Address, dtype: object"
      ]
     },
     "execution_count": 183,
     "metadata": {},
     "output_type": "execute_result"
    }
   ],
   "source": [
    "d1=d.pop('Address')\n",
    "d1"
   ]
  },
  {
   "cell_type": "code",
   "execution_count": 184,
   "id": "a49a0222",
   "metadata": {},
   "outputs": [
    {
     "data": {
      "text/html": [
       "<div>\n",
       "<style scoped>\n",
       "    .dataframe tbody tr th:only-of-type {\n",
       "        vertical-align: middle;\n",
       "    }\n",
       "\n",
       "    .dataframe tbody tr th {\n",
       "        vertical-align: top;\n",
       "    }\n",
       "\n",
       "    .dataframe thead th {\n",
       "        text-align: right;\n",
       "    }\n",
       "</style>\n",
       "<table border=\"1\" class=\"dataframe\">\n",
       "  <thead>\n",
       "    <tr style=\"text-align: right;\">\n",
       "      <th></th>\n",
       "      <th>Names</th>\n",
       "      <th>Roll no.</th>\n",
       "      <th>Marks</th>\n",
       "      <th>Grade</th>\n",
       "    </tr>\n",
       "  </thead>\n",
       "  <tbody>\n",
       "    <tr>\n",
       "      <th>0</th>\n",
       "      <td>abc</td>\n",
       "      <td>101</td>\n",
       "      <td>90</td>\n",
       "      <td>Good</td>\n",
       "    </tr>\n",
       "    <tr>\n",
       "      <th>1</th>\n",
       "      <td>xyz</td>\n",
       "      <td>102</td>\n",
       "      <td>88</td>\n",
       "      <td>Good</td>\n",
       "    </tr>\n",
       "    <tr>\n",
       "      <th>2</th>\n",
       "      <td>uvw</td>\n",
       "      <td>103</td>\n",
       "      <td>85</td>\n",
       "      <td>Avg</td>\n",
       "    </tr>\n",
       "  </tbody>\n",
       "</table>\n",
       "</div>"
      ],
      "text/plain": [
       "  Names Roll no. Marks Grade\n",
       "0   abc      101    90  Good\n",
       "1   xyz      102    88  Good\n",
       "2   uvw      103    85   Avg"
      ]
     },
     "execution_count": 184,
     "metadata": {},
     "output_type": "execute_result"
    }
   ],
   "source": [
    "d"
   ]
  },
  {
   "cell_type": "code",
   "execution_count": 187,
   "id": "549b67c2",
   "metadata": {},
   "outputs": [
    {
     "data": {
      "text/html": [
       "<div>\n",
       "<style scoped>\n",
       "    .dataframe tbody tr th:only-of-type {\n",
       "        vertical-align: middle;\n",
       "    }\n",
       "\n",
       "    .dataframe tbody tr th {\n",
       "        vertical-align: top;\n",
       "    }\n",
       "\n",
       "    .dataframe thead th {\n",
       "        text-align: right;\n",
       "    }\n",
       "</style>\n",
       "<table border=\"1\" class=\"dataframe\">\n",
       "  <thead>\n",
       "    <tr style=\"text-align: right;\">\n",
       "      <th></th>\n",
       "      <th>Names</th>\n",
       "      <th>Roll no.</th>\n",
       "      <th>Marks</th>\n",
       "    </tr>\n",
       "  </thead>\n",
       "  <tbody>\n",
       "    <tr>\n",
       "      <th>0</th>\n",
       "      <td>abc</td>\n",
       "      <td>101</td>\n",
       "      <td>90</td>\n",
       "    </tr>\n",
       "    <tr>\n",
       "      <th>1</th>\n",
       "      <td>xyz</td>\n",
       "      <td>102</td>\n",
       "      <td>88</td>\n",
       "    </tr>\n",
       "    <tr>\n",
       "      <th>2</th>\n",
       "      <td>uvw</td>\n",
       "      <td>103</td>\n",
       "      <td>85</td>\n",
       "    </tr>\n",
       "  </tbody>\n",
       "</table>\n",
       "</div>"
      ],
      "text/plain": [
       "  Names Roll no. Marks\n",
       "0   abc      101    90\n",
       "1   xyz      102    88\n",
       "2   uvw      103    85"
      ]
     },
     "execution_count": 187,
     "metadata": {},
     "output_type": "execute_result"
    }
   ],
   "source": [
    "d.drop('Grade',axis=1,inplace=True)\n",
    "d"
   ]
  },
  {
   "cell_type": "code",
   "execution_count": 188,
   "id": "a0693f08",
   "metadata": {},
   "outputs": [
    {
     "data": {
      "text/html": [
       "<div>\n",
       "<style scoped>\n",
       "    .dataframe tbody tr th:only-of-type {\n",
       "        vertical-align: middle;\n",
       "    }\n",
       "\n",
       "    .dataframe tbody tr th {\n",
       "        vertical-align: top;\n",
       "    }\n",
       "\n",
       "    .dataframe thead th {\n",
       "        text-align: right;\n",
       "    }\n",
       "</style>\n",
       "<table border=\"1\" class=\"dataframe\">\n",
       "  <thead>\n",
       "    <tr style=\"text-align: right;\">\n",
       "      <th></th>\n",
       "      <th>Names</th>\n",
       "      <th>Roll no.</th>\n",
       "      <th>Marks</th>\n",
       "    </tr>\n",
       "  </thead>\n",
       "  <tbody>\n",
       "    <tr>\n",
       "      <th>1</th>\n",
       "      <td>xyz</td>\n",
       "      <td>102</td>\n",
       "      <td>88</td>\n",
       "    </tr>\n",
       "    <tr>\n",
       "      <th>2</th>\n",
       "      <td>uvw</td>\n",
       "      <td>103</td>\n",
       "      <td>85</td>\n",
       "    </tr>\n",
       "  </tbody>\n",
       "</table>\n",
       "</div>"
      ],
      "text/plain": [
       "  Names Roll no. Marks\n",
       "1   xyz      102    88\n",
       "2   uvw      103    85"
      ]
     },
     "execution_count": 188,
     "metadata": {},
     "output_type": "execute_result"
    }
   ],
   "source": [
    "d.drop(0)"
   ]
  },
  {
   "cell_type": "code",
   "execution_count": 194,
   "id": "22a67e93",
   "metadata": {},
   "outputs": [
    {
     "data": {
      "text/html": [
       "<div>\n",
       "<style scoped>\n",
       "    .dataframe tbody tr th:only-of-type {\n",
       "        vertical-align: middle;\n",
       "    }\n",
       "\n",
       "    .dataframe tbody tr th {\n",
       "        vertical-align: top;\n",
       "    }\n",
       "\n",
       "    .dataframe thead th {\n",
       "        text-align: right;\n",
       "    }\n",
       "</style>\n",
       "<table border=\"1\" class=\"dataframe\">\n",
       "  <thead>\n",
       "    <tr style=\"text-align: right;\">\n",
       "      <th></th>\n",
       "      <th>Names</th>\n",
       "      <th>Roll no.</th>\n",
       "      <th>Number</th>\n",
       "    </tr>\n",
       "  </thead>\n",
       "  <tbody>\n",
       "    <tr>\n",
       "      <th>0</th>\n",
       "      <td>abc</td>\n",
       "      <td>101</td>\n",
       "      <td>90</td>\n",
       "    </tr>\n",
       "    <tr>\n",
       "      <th>1</th>\n",
       "      <td>xyz</td>\n",
       "      <td>102</td>\n",
       "      <td>88</td>\n",
       "    </tr>\n",
       "    <tr>\n",
       "      <th>2</th>\n",
       "      <td>uvw</td>\n",
       "      <td>103</td>\n",
       "      <td>85</td>\n",
       "    </tr>\n",
       "  </tbody>\n",
       "</table>\n",
       "</div>"
      ],
      "text/plain": [
       "  Names Roll no. Number\n",
       "0   abc      101     90\n",
       "1   xyz      102     88\n",
       "2   uvw      103     85"
      ]
     },
     "execution_count": 194,
     "metadata": {},
     "output_type": "execute_result"
    }
   ],
   "source": [
    "d.rename(columns={'Marks':'Number'})"
   ]
  },
  {
   "cell_type": "code",
   "execution_count": 201,
   "id": "77455666",
   "metadata": {},
   "outputs": [
    {
     "name": "stdout",
     "output_type": "stream",
     "text": [
      "Names       abc\n",
      "Roll no.    101\n",
      "Marks        90\n",
      "Name: 0, dtype: object\n",
      "0    abc\n",
      "1    xyz\n",
      "2    uvw\n",
      "Name: Names, dtype: object\n"
     ]
    }
   ],
   "source": [
    "print(d.loc[0])#index\n",
    "print(d['Names'])#columns"
   ]
  },
  {
   "cell_type": "code",
   "execution_count": 206,
   "id": "7747e730",
   "metadata": {},
   "outputs": [
    {
     "name": "stdout",
     "output_type": "stream",
     "text": [
      "90\n",
      "  Names Roll no.\n",
      "0   abc      101\n",
      "1   xyz      102\n",
      "2   uvw      103\n"
     ]
    }
   ],
   "source": [
    "print(d.iloc[0][2])\n",
    "print(d.iloc[:,:2])"
   ]
  },
  {
   "cell_type": "code",
   "execution_count": 207,
   "id": "30c4bec9",
   "metadata": {},
   "outputs": [
    {
     "name": "stdout",
     "output_type": "stream",
     "text": [
      "2\n",
      "(2, 3)\n"
     ]
    }
   ],
   "source": [
    "import numpy as np\n",
    "a=np.array([[1,2,3],[4,5,6]])\n",
    "print(a.ndim)\n",
    "print(a.shape)"
   ]
  },
  {
   "cell_type": "code",
   "execution_count": 209,
   "id": "12e17aa8",
   "metadata": {},
   "outputs": [
    {
     "data": {
      "text/html": [
       "<div>\n",
       "<style scoped>\n",
       "    .dataframe tbody tr th:only-of-type {\n",
       "        vertical-align: middle;\n",
       "    }\n",
       "\n",
       "    .dataframe tbody tr th {\n",
       "        vertical-align: top;\n",
       "    }\n",
       "\n",
       "    .dataframe thead th {\n",
       "        text-align: right;\n",
       "    }\n",
       "</style>\n",
       "<table border=\"1\" class=\"dataframe\">\n",
       "  <thead>\n",
       "    <tr style=\"text-align: right;\">\n",
       "      <th></th>\n",
       "      <th>ID1</th>\n",
       "      <th>ID2</th>\n",
       "      <th>ID3</th>\n",
       "    </tr>\n",
       "  </thead>\n",
       "  <tbody>\n",
       "    <tr>\n",
       "      <th>name</th>\n",
       "      <td>1</td>\n",
       "      <td>2</td>\n",
       "      <td>3</td>\n",
       "    </tr>\n",
       "    <tr>\n",
       "      <th>rollno</th>\n",
       "      <td>4</td>\n",
       "      <td>5</td>\n",
       "      <td>6</td>\n",
       "    </tr>\n",
       "    <tr>\n",
       "      <th>marks</th>\n",
       "      <td>7</td>\n",
       "      <td>8</td>\n",
       "      <td>9</td>\n",
       "    </tr>\n",
       "  </tbody>\n",
       "</table>\n",
       "</div>"
      ],
      "text/plain": [
       "        ID1  ID2  ID3\n",
       "name      1    2    3\n",
       "rollno    4    5    6\n",
       "marks     7    8    9"
      ]
     },
     "execution_count": 209,
     "metadata": {},
     "output_type": "execute_result"
    }
   ],
   "source": [
    "import pandas as pd\n",
    "a=np.array([[1,2,3],[4,5,6],[7,8,9]])\n",
    "d=pd.DataFrame(a,columns=['ID1','ID2','ID3'],index=['name','rollno','marks'])\n",
    "d"
   ]
  },
  {
   "cell_type": "code",
   "execution_count": 8,
   "id": "02cdad52",
   "metadata": {},
   "outputs": [
    {
     "name": "stdout",
     "output_type": "stream",
     "text": [
      "20\n",
      "Your function takes: function 2.000852584838867\n"
     ]
    }
   ],
   "source": [
    "import time\n",
    "def Decorator_function(fun):\n",
    "    def inner_function(*k):\n",
    "        start=time.time()\n",
    "        time.sleep(2)\n",
    "        fun(*k)\n",
    "        stop=time.time()\n",
    "        print('Your function takes:',fun.__name__,stop-start)\n",
    "    return inner_function\n",
    "@Decorator_function\n",
    "def function(a,b):\n",
    "    print(a*b)\n",
    "function(4,5)"
   ]
  },
  {
   "cell_type": "code",
   "execution_count": 10,
   "id": "84f73ff7",
   "metadata": {},
   "outputs": [
    {
     "name": "stdout",
     "output_type": "stream",
     "text": [
      "sum:  11\n"
     ]
    }
   ],
   "source": [
    "def fun():\n",
    "    x=5\n",
    "    def inner(y):\n",
    "        print ('sum: ',x+y)\n",
    "    return inner\n",
    "h=fun()\n",
    "h(6)      "
   ]
  },
  {
   "cell_type": "code",
   "execution_count": 15,
   "id": "557d920d",
   "metadata": {},
   "outputs": [
    {
     "name": "stdout",
     "output_type": "stream",
     "text": [
      "2\n",
      "4\n",
      "6\n",
      "8\n",
      "10\n",
      "12\n",
      "14\n",
      "16\n",
      "18\n",
      "20\n",
      "22\n",
      "24\n",
      "26\n",
      "28\n",
      "30\n",
      "32\n",
      "34\n",
      "36\n",
      "38\n",
      "40\n",
      "42\n",
      "44\n",
      "46\n",
      "48\n",
      "50\n",
      "52\n",
      "54\n",
      "56\n",
      "58\n",
      "60\n",
      "62\n",
      "64\n",
      "66\n",
      "68\n",
      "70\n",
      "72\n",
      "74\n",
      "76\n",
      "78\n",
      "80\n",
      "82\n",
      "84\n",
      "86\n",
      "88\n",
      "90\n",
      "92\n",
      "94\n",
      "96\n",
      "98\n",
      "100\n"
     ]
    },
    {
     "ename": "StopIteration",
     "evalue": "",
     "output_type": "error",
     "traceback": [
      "\u001b[1;31m---------------------------------------------------------------------------\u001b[0m",
      "\u001b[1;31mStopIteration\u001b[0m                             Traceback (most recent call last)",
      "Cell \u001b[1;32mIn[15], line 13\u001b[0m\n\u001b[0;32m     11\u001b[0m \u001b[38;5;28mprint\u001b[39m(i)\n\u001b[0;32m     12\u001b[0m \u001b[38;5;28;01mif\u001b[39;00m i\u001b[38;5;241m>\u001b[39m\u001b[38;5;241m=\u001b[39m\u001b[38;5;241m100\u001b[39m:\n\u001b[1;32m---> 13\u001b[0m     \u001b[38;5;28;01mraise\u001b[39;00m \u001b[38;5;167;01mStopIteration\u001b[39;00m\n",
      "\u001b[1;31mStopIteration\u001b[0m: "
     ]
    }
   ],
   "source": [
    "class even:\n",
    "    def __init__(self):\n",
    "        self.a=0\n",
    "    def __iter__(self):\n",
    "        return self\n",
    "    def __next__(self):\n",
    "        self.a+=2\n",
    "        return self.a\n",
    "obj=even()\n",
    "for i in obj:\n",
    "    print(i)\n",
    "    if i>=100:\n",
    "        raise StopIteration"
   ]
  },
  {
   "cell_type": "code",
   "execution_count": 20,
   "id": "4262961a",
   "metadata": {},
   "outputs": [
    {
     "name": "stdout",
     "output_type": "stream",
     "text": [
      "1\n",
      "3\n",
      "5\n",
      "7\n",
      "9\n",
      "11\n",
      "13\n",
      "15\n",
      "17\n",
      "19\n",
      "21\n",
      "23\n",
      "25\n",
      "27\n",
      "29\n",
      "31\n",
      "33\n",
      "35\n",
      "37\n",
      "39\n",
      "41\n",
      "43\n",
      "45\n",
      "47\n",
      "49\n",
      "51\n",
      "53\n",
      "55\n",
      "57\n",
      "59\n",
      "61\n",
      "63\n",
      "65\n",
      "67\n",
      "69\n",
      "71\n",
      "73\n",
      "75\n",
      "77\n",
      "79\n",
      "81\n",
      "83\n",
      "85\n",
      "87\n",
      "89\n",
      "91\n",
      "93\n",
      "95\n",
      "97\n",
      "99\n"
     ]
    }
   ],
   "source": [
    "class odd:\n",
    "    def __init__(self,n):\n",
    "        self.lim=n\n",
    "        self.var=1\n",
    "    def __iter__(self):\n",
    "        return self\n",
    "    def __next__(self):\n",
    "        if self.var<=self.lim:\n",
    "            odd=self.var\n",
    "            self.var+=2\n",
    "            return odd\n",
    "        else:\n",
    "            raise StopIteration\n",
    "obj=odd(100)\n",
    "for i in obj:\n",
    "    print(i)"
   ]
  },
  {
   "cell_type": "code",
   "execution_count": 31,
   "id": "6d15908b",
   "metadata": {},
   "outputs": [
    {
     "name": "stdout",
     "output_type": "stream",
     "text": [
      "0\n",
      "1\n",
      "1\n",
      "2\n",
      "3\n",
      "5\n",
      "8\n",
      "13\n",
      "21\n",
      "34\n",
      "55\n",
      "89\n",
      "144\n",
      "233\n",
      "377\n",
      "610\n",
      "987\n",
      "1597\n",
      "2584\n",
      "4181\n"
     ]
    }
   ],
   "source": [
    "def fib():\n",
    "    a=0\n",
    "    b=1\n",
    "    while True:\n",
    "        yield a\n",
    "        a,b=b,a+b\n",
    "ob=fib()\n",
    "for _ in range(20):\n",
    "    print(next(ob))\n",
    "    \n",
    "    "
   ]
  },
  {
   "cell_type": "code",
   "execution_count": 33,
   "id": "fd38d356",
   "metadata": {},
   "outputs": [
    {
     "name": "stdout",
     "output_type": "stream",
     "text": [
      "[8, 16, 24, 32, 40, 48, 56, 64, 72, 80, 88, 96, 104, 112, 120, 128, 136, 144, 152, 160, 168, 176, 184, 192, 200, 208, 216, 224, 232, 240, 248, 256, 264, 272, 280, 288, 296, 304, 312, 320, 328, 336, 344, 352, 360, 368, 376, 384, 392, 400, 408, 416, 424, 432, 440, 448, 456, 464, 472, 480, 488, 496, 504, 512, 520, 528, 536, 544, 552, 560, 568, 576, 584, 592, 600, 608, 616, 624, 632, 640, 648, 656, 664, 672, 680, 688, 696, 704, 712, 720, 728, 736, 744, 752, 760, 768, 776, 784, 792, 800, 808, 816, 824, 832, 840, 848, 856, 864, 872, 880, 888, 896, 904, 912, 920, 928, 936, 944, 952, 960, 968, 976, 984, 992]\n"
     ]
    }
   ],
   "source": [
    "a=[i for i in range(1,1000) if i%8==0]\n",
    "print(a)"
   ]
  },
  {
   "cell_type": "code",
   "execution_count": 5,
   "id": "7ec72ad3",
   "metadata": {},
   "outputs": [],
   "source": [
    "class odd:\n",
    "    def __init__(self,n):\n",
    "        self.lim=n\n",
    "        self.var=1\n",
    "    def __iter__(self):\n",
    "        return self\n",
    "    def __next__(self):\n",
    "        if self.lim<=self.var:\n",
    "            odd=self.var\n",
    "            self.var+=2\n",
    "            return odd\n",
    "        else: \n",
    "            raise StopIteration\n",
    "obj=odd(20)\n",
    "for i in obj:\n",
    "    print(i)"
   ]
  },
  {
   "cell_type": "code",
   "execution_count": 6,
   "id": "5a7dfc8f",
   "metadata": {},
   "outputs": [
    {
     "name": "stdout",
     "output_type": "stream",
     "text": [
      "1\n",
      "3\n",
      "5\n",
      "7\n",
      "9\n",
      "11\n",
      "13\n",
      "15\n",
      "17\n",
      "19\n"
     ]
    }
   ],
   "source": [
    "def odd():\n",
    "    var=1\n",
    "    while True:\n",
    "        yield var\n",
    "        var+=2\n",
    "obj=odd()\n",
    "for i in range(10):\n",
    "    print(next(obj))"
   ]
  },
  {
   "cell_type": "code",
   "execution_count": 11,
   "id": "e6557fd0",
   "metadata": {},
   "outputs": [
    {
     "name": "stdout",
     "output_type": "stream",
     "text": [
      "t\n",
      "i\n",
      "p\n",
      "r\n",
      "A\n"
     ]
    }
   ],
   "source": [
    "def rev(n):\n",
    "    a=len(n)\n",
    "    b=a\n",
    "    for i in range(a):\n",
    "        yield n[b-1]\n",
    "        b-=1\n",
    "obj=rev('Arpit')\n",
    "for i in obj:\n",
    "    print(i)"
   ]
  },
  {
   "cell_type": "code",
   "execution_count": 7,
   "id": "15849ea2",
   "metadata": {},
   "outputs": [
    {
     "data": {
      "image/png": "[encoded data removed]",
      "text/plain": [
       "<Figure size 600x600 with 1 Axes>"
      ]
     },
     "metadata": {},
     "output_type": "display_data"
    },
    {
     "data": {
      "image/png": "[encoded data removed]",
      "text/plain": [
       "<Figure size 800x600 with 1 Axes>"
      ]
     },
     "metadata": {},
     "output_type": "display_data"
    },
    {
     "data": {
      "image/png": "[encoded data removed]",
      "text/plain": [
       "<Figure size 800x600 with 1 Axes>"
      ]
     },
     "metadata": {},
     "output_type": "display_data"
    }
   ],
   "source": [
    "import matplotlib.pyplot as plt\n",
    "\n",
    "# Data for the pie chart\n",
    "labels = ['Apples', 'Bananas', 'Oranges', 'Grapes']\n",
    "sizes = [30, 20, 25, 15]\n",
    "colors = ['red', 'yellow', 'orange', 'purple']\n",
    "\n",
    "# Create the pie chart\n",
    "plt.figure(figsize=(6, 6))\n",
    "plt.pie(sizes, labels=labels, colors=colors, autopct='%1.1f%%', startangle=90)\n",
    "plt.title('Fruit Distribution')\n",
    "\n",
    "# Display the pie chart\n",
    "plt.show()\n",
    "\n",
    "# Data for the stack chart\n",
    "categories = ['A', 'B', 'C', 'D']\n",
    "values1 = [15, 30, 25, 10]\n",
    "values2 = [10, 25, 30, 15]\n",
    "values3 = [20, 20, 20, 20]\n",
    "\n",
    "# Create the stack chart\n",
    "plt.figure(figsize=(8, 6))\n",
    "plt.stackplot(categories, values1, values2, values3, labels=['Group 1', 'Group 2', 'Group 3'])\n",
    "plt.legend(loc='upper left')\n",
    "plt.title('Stack Chart')\n",
    "plt.xlabel('Categories')\n",
    "plt.ylabel('Values')\n",
    "\n",
    "# Display the stack chart\n",
    "plt.show()\n",
    "\n",
    "# Data for the bar chart\n",
    "x = ['A', 'B', 'C', 'D']\n",
    "y = [10, 25, 30, 15]\n",
    "\n",
    "# Create the bar chart\n",
    "plt.figure(figsize=(8, 6))\n",
    "plt.bar(x, y, color='green')\n",
    "plt.title('Bar Chart')\n",
    "plt.xlabel('Categories')\n",
    "plt.ylabel('Values')\n",
    "\n",
    "# Display the bar chart\n",
    "plt.show()\n",
    "\n"
   ]
  },
  {
   "cell_type": "code",
   "execution_count": 19,
   "id": "7853b6d2",
   "metadata": {},
   "outputs": [
    {
     "data": {
      "image/png": "[encoded data removed]",
      "text/plain": [
       "<Figure size 600x600 with 1 Axes>"
      ]
     },
     "metadata": {},
     "output_type": "display_data"
    }
   ],
   "source": [
    "import matplotlib.pyplot as plt\n",
    "lan=['Hindi','English','Tamil','Bengali','Marathi']\n",
    "n=[40,12,7,4,9]\n",
    "plt.figure(figsize=(6,6))\n",
    "plt.pie(n,labels=lan,colors=['red','yellow','blue','green','pink'],autopct='%1.1f%%', startangle=90)\n",
    "plt.title('Data')\n",
    "plt.show()"
   ]
  },
  {
   "cell_type": "code",
   "execution_count": 25,
   "id": "27716df0",
   "metadata": {},
   "outputs": [
    {
     "data": {
      "image/png": "[encoded data removed]",
      "text/plain": [
       "<Figure size 640x480 with 1 Axes>"
      ]
     },
     "metadata": {},
     "output_type": "display_data"
    }
   ],
   "source": [
    "t=[5,12,17,19,25,30]\n",
    "v=[]\n",
    "u=20\n",
    "a=5\n",
    "for i in t:\n",
    "    a=u+a*i\n",
    "    v.append(a)\n",
    "plt.plot(t,v)\n",
    "plt.xlabel('Time')\n",
    "plt.ylabel('Velocity')\n",
    "plt.title('Velocity Vs Time')\n",
    "plt.show()"
   ]
  },
  {
   "cell_type": "code",
   "execution_count": null,
   "id": "d8f09091",
   "metadata": {},
   "outputs": [],
   "source": []
  }
 ],
 "metadata": {
  "kernelspec": {
   "display_name": "Python 3 (ipykernel)",
   "language": "python",
   "name": "python3"
  },
  "language_info": {
   "codemirror_mode": {
    "name": "ipython",
    "version": 3
   },
   "file_extension": ".py",
   "mimetype": "text/x-python",
   "name": "python",
   "nbconvert_exporter": "python",
   "pygments_lexer": "ipython3",
   "version": "3.11.1"
  }
 },
 "nbformat": 4,
 "nbformat_minor": 5
}
