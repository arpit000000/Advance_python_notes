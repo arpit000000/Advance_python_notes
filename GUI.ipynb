{
 "cells": [
  {
   "cell_type": "code",
   "execution_count": 98,
   "id": "31ed1654",
   "metadata": {},
   "outputs": [],
   "source": [
    "from tkinter import *"
   ]
  },
  {
   "cell_type": "code",
   "execution_count": 162,
   "id": "7d96f572",
   "metadata": {},
   "outputs": [],
   "source": [
    "root=Tk()\n",
    "root.title('hello')\n",
    "root.geometry('550x750')\n",
    "l=Label(root,text='Hello',bg='pink',fg='red')\n",
    "l.grid(row=0,column=0)\n",
    "l1=Label(root,text='Welcome',bg='red',fg='yellow')\n",
    "l1.grid(row=0,column=1,pady=5,padx=10)\n",
    "l2=Label(root,text='No click',bg='yellow',fg='red')\n",
    "l2.grid(row=3,column=0)\n",
    "b=Button(root,text='click me',fg='blue',bg='pink',command=text)\n",
    "b.grid(row=1,column=1)\n",
    "c=0\n",
    "def text():\n",
    "    global c\n",
    "    global l2\n",
    "    c=c+1\n",
    "    l2.configure(text=f'you clicked {c} times')\n",
    "    if c>=12:\n",
    "        b.configure(state=DISABLED)\n",
    "        l2.configure(text='you clicked max times')\n",
    "root.mainloop()"
   ]
  },
  {
   "cell_type": "code",
   "execution_count": 11,
   "id": "bc99c3ec",
   "metadata": {},
   "outputs": [],
   "source": [
    "root=Tk()\n",
    "root.title('hello')\n",
    "root.geometry('750x950')\n",
    "f=Frame(root,padx=20,pady=30,borderwidth=7,relief=SUNKEN)\n",
    "f.pack(pady=50,padx=20)\n",
    "ent=Entry(f,width=30,bg='pink',fg='blue')\n",
    "ent.pack(pady=50,padx=30)\n",
    "ent.insert(0,'Enter')\n",
    "l=Label(f,text='my label',)\n",
    "l.pack()\n",
    "b=Button(f,text='click',command='take')\n",
    "b.pack()\n",
    "def take():\n",
    "    x=ent.get()\n",
    "    my=Label(f,text='Niet'+x)\n",
    "    my.pack()\n",
    "    ent.delete(0,END)\n",
    "t=Text(f)\n",
    "t.pack()\n",
    "t.insert(1.0,'enter your info...')\n",
    "root.mainloop()"
   ]
  },
  {
   "cell_type": "code",
   "execution_count": 189,
   "id": "dc5e060a",
   "metadata": {},
   "outputs": [],
   "source": [
    "from tkinter import *\n",
    "import time\n",
    "root=Tk()\n",
    "root.title('Radio buttons')\n",
    "root.geometry('550x550')\n",
    "l=Label(root,text='Select you Gender',font=22)\n",
    "l.pack(pady=30,padx=20)\n",
    "r=StringVar()\n",
    "r.set('Female')\n",
    "def onclick(value):\n",
    "    global l\n",
    "    l.destroy()\n",
    "    l=Label(root,text=value)\n",
    "    l.pack()\n",
    "R1=Radiobutton(text='Male',variable=r,value='Male',command=lambda:onclick(r.get())).pack()\n",
    "R2=Radiobutton(text='FeMale',variable=r,value='Female',command=lambda:onclick(r.get())).pack()\n",
    "R3=Radiobutton(text='Other',variable=r,value='Other',command=lambda:onclick(r.get())).pack()\n",
    "l=Label(root,text=r.get())\n",
    "l.pack()\n",
    "root.mainloop()"
   ]
  },
  {
   "cell_type": "code",
   "execution_count": 149,
   "id": "ced620bc",
   "metadata": {},
   "outputs": [],
   "source": [
    "#Registration Form\n",
    "root =Tk()\n",
    "root.title('Registration form')\n",
    "root.geometry('550x750')\n",
    "l=Label(root,text='Registration Form',font=22)\n",
    "l.pack()\n",
    "f=Frame(root,borderwidth=7)\n",
    "f.pack(pady=30,padx=40)\n",
    "l1=Label(f,text='NAME',font=12,padx=10,pady=8)\n",
    "l1.grid(row=0,column=0)\n",
    "e1=Entry(f)\n",
    "e1.grid(row=0,column=1)\n",
    "l2=Label(f,text='ROLL NO.',font=12,padx=10,pady=8)\n",
    "l2.grid(row=1,column=0)\n",
    "e2=Entry(f)\n",
    "e2.grid(row=1,column=1)\n",
    "l3=Label(f,text='GENDER',font=12,padx=10,pady=8)\n",
    "l3.grid(row=3,column=0)\n",
    "r=StringVar()\n",
    "r.set('Female')\n",
    "r1=Radiobutton(f,text='Male',font=12,variable=r,value='Male')\n",
    "r1.grid(row=3,column=1)\n",
    "r1=Radiobutton(f,text='Female',font=12,variable=r,value='Female')\n",
    "r1.grid(row=3,column=2)\n",
    "r1=Radiobutton(f,text='Other',font=12,variable=r,value='Other')\n",
    "r1.grid(row=3,column=3)\n",
    "l4=Label(f,text='Subjects',font=12,padx=10,pady=8)\n",
    "l4.grid(row=4,column=0)\n",
    "c1=Checkbutton(f,text='Maths')\n",
    "c1.grid(row=4,column=1)\n",
    "c1=Checkbutton(f,text='Physics')\n",
    "c1.grid(row=4,column=2)\n",
    "c1=Checkbutton(f,text='Python')\n",
    "c1.grid(row=4,column=3)\n",
    "c1=Checkbutton(f,text='English')\n",
    "c1.grid(row=5,column=1)\n",
    "c1=Checkbutton(f,text='G.K')\n",
    "c1.grid(row=5,column=2)\n",
    "c1=Checkbutton(f,text='Art')\n",
    "c1.grid(row=5,column=3)\n",
    "b=Button(root,text='SUBMIT',borderwidth=7,pady=10,padx=15,command=submit)\n",
    "b.pack()\n",
    "def submit():\n",
    "    l9=Label(root,text='Thanks for Registration',font=7)\n",
    "    l9.pack(padx=20,pady=30)\n",
    "root.mainloop()"
   ]
  },
  {
   "cell_type": "code",
   "execution_count": 153,
   "id": "06f99bfe",
   "metadata": {},
   "outputs": [],
   "source": [
    "#close the window in 10 sec\n",
    "root=Tk()\n",
    "root.title('Disappear')\n",
    "root.geometry('550x750')\n",
    "l=Label(root,text='This window will disappear in 10 sec....',font=10)\n",
    "l.pack()\n",
    "def close_window():\n",
    "    root.destroy()\n",
    "root.after(10000,close_window)\n",
    "root.mainloop()"
   ]
  },
  {
   "cell_type": "code",
   "execution_count": 188,
   "id": "23de0c21",
   "metadata": {},
   "outputs": [],
   "source": [
    "#fixting the window size\n",
    "root=Tk()\n",
    "root.title(\"message\")\n",
    "root.geometry('550x350')\n",
    "l1=Label(root,text='Hello World',bg='red')\n",
    "l2=Label(root,text='Welcome to Python',bg='light green')\n",
    "l1.pack(fill=Y,padx=10,ipady=25,side=LEFT)\n",
    "l2.pack(fill=Y,padx=20,ipady=40,side=RIGHT)\n",
    "root.minsize(250,300)#this will also use for frame \n",
    "root.maxsize(750,550)#f.min or max size.\n",
    "root.mainloop()"
   ]
  },
  {
   "cell_type": "code",
   "execution_count": 195,
   "id": "49e929c2",
   "metadata": {},
   "outputs": [],
   "source": [
    "#delete lebel on click  \n",
    "from tkinter import *\n",
    "root=Tk()\n",
    "root.title('remove')\n",
    "root.geometry('550x550')\n",
    "l=Label(root,text='Hello',font=12)\n",
    "l.pack(pady=15,padx=20)\n",
    "b=Button(root,text='Remove',borderwidth=9,command=delete)\n",
    "b.pack(padx=15,pady=20)\n",
    "def delete():\n",
    "    global l\n",
    "    l.destroy()\n",
    "root.mainloop()"
   ]
  },
  {
   "cell_type": "markdown",
   "id": "0313874d",
   "metadata": {},
   "source": [
    "Q.1 Explain role of pack() , grid() and place() method in tkinter."
   ]
  },
  {
   "cell_type": "markdown",
   "id": "2ac6f5d6",
   "metadata": {},
   "source": [
    "ANS. The pack() and grid() methods in Tkinter are both used for layout management, but they have different approaches and behaviors.\n",
    "\n",
    "1. pack() method:\n",
    "The pack() method is a simple and convenient way to place widgets within a window or frame. It automatically arranges widgets in a vertical or horizontal manner, depending on the orientation specified. The pack() method adjusts the size of each widget to fit its contents.\n",
    "\n",
    "You can use the side parameter to change the orientation to 'left', 'right', 'top', or 'bottom'.\n",
    "\n",
    "You can control the expansion and alignment of widgets using options like fill, expand, and anchor\n",
    "\n",
    "2. grid() method:\n",
    "The grid() method provides a more structured way to organize widgets in a table-like layout with rows and columns. It allows precise control over the placement and alignment of widgets within the grid cells.\n",
    "\n",
    "Widgets are placed in specific rows and columns of a grid.\n",
    "\n",
    "You specify the row and column indices for each widget using the row and column parameters.\n",
    "\n",
    "Widgets can span multiple rows or columns using the rowspan and columnspan parameters.\n",
    "The grid automatically adjusts its size to accommodate the widgets.\n",
    "\n",
    "3. place() method\n",
    "\n",
    "the place() method is used to position widgets with precise control within a window or frame. \n",
    "\n",
    "place() method takes in two mandatory arguments: x and y, which represent the pixel coordinates of the top-left corner of the widget's bounding box. The (0, 0) coordinates correspond to the top-left corner of the window or frame."
   ]
  },
  {
   "cell_type": "markdown",
   "id": "39d79701",
   "metadata": {},
   "source": [
    "Q2. How tkinter widgets are different with ipywidgets. List any five ipywidgets with code.\n",
    "\n",
    "Ans. Integration with Jupyter Notebooks: ipywidgets are specifically designed to work within Jupyter Notebooks, allowing you to create interactive widgets directly in the notebook environment. Tkinter, on the other hand, is primarily used for creating standalone desktop applications."
   ]
  },
  {
   "cell_type": "code",
   "execution_count": null,
   "id": "65fd44f2",
   "metadata": {},
   "outputs": [],
   "source": []
  },
  {
   "cell_type": "markdown",
   "id": "fdcb2870",
   "metadata": {},
   "source": [
    "Q3.Explain the use of mainloop and config.\n"
   ]
  },
  {
   "cell_type": "markdown",
   "id": "4aea2412",
   "metadata": {},
   "source": [
    "Ans. config() method is used to modify the configuration options of a widget after it has been created. It allows you to change various attributes and properties of the widget dynamically during the execution of the program."
   ]
  },
  {
   "cell_type": "markdown",
   "id": "f4840b13",
   "metadata": {},
   "source": [
    "Q4. Explain different ways to display the widgets on the root window."
   ]
  },
  {
   "cell_type": "markdown",
   "id": "2047050e",
   "metadata": {},
   "source": [
    "Ans. There are several ways to display widgets on the root window in Tkinter. Here are four common methods:\n",
    "\n",
    "1.Using the pack() Method:\n",
    "\n",
    "2.Using the grid() Method:\n",
    "\n",
    "3.Using the place() Method:The place() method allows you to specify the exact coordinates (x and y) where the widget should be placed within the root window. This method offers precise control over widget positioning but requires manual placement calculations.\n",
    "\n",
    "4.Using the grid() and pack() Methods Together:\n"
   ]
  },
  {
   "cell_type": "code",
   "execution_count": 155,
   "id": "fe95e30d",
   "metadata": {},
   "outputs": [],
   "source": [
    "#1.\n",
    "from tkinter import *\n",
    "root=Tk()\n",
    "root.title('pack method')\n",
    "root.geometry('550x550')\n",
    "l1=Label(root,text='Hello',font=12)\n",
    "l1.pack(padx=20,pady=30)\n",
    "l2=Label(root,text='Welcome you',font=12)\n",
    "l2.pack(padx=20,pady=30)\n",
    "root.mainloop()"
   ]
  },
  {
   "cell_type": "code",
   "execution_count": 156,
   "id": "ef79bf1a",
   "metadata": {},
   "outputs": [],
   "source": [
    "#2.\n",
    "from tkinter import *\n",
    "root=Tk()\n",
    "root.title('grid method')\n",
    "root.geometry('550x550')\n",
    "l1=Label(root,text='Hello',font=12)\n",
    "l1.grid(row=0,column=0)\n",
    "l2=Label(root,text='Welcome you',font=12)\n",
    "l2.grid(row=1,column=0)\n",
    "root.mainloop()"
   ]
  },
  {
   "cell_type": "code",
   "execution_count": 161,
   "id": "4f6cfef6",
   "metadata": {},
   "outputs": [],
   "source": [
    "#3..\n",
    "from tkinter import *\n",
    "root=Tk()\n",
    "root.title('pack method')\n",
    "root.geometry('550x550')\n",
    "l1=Label(root,text='Hello',font=12)\n",
    "l1.place(x=20,y=20)\n",
    "l2=Label(root,text='Welcome you',font=12)\n",
    "l2.place(x=140,y=140)\n",
    "root.mainloop()"
   ]
  },
  {
   "cell_type": "code",
   "execution_count": 196,
   "id": "cb821799",
   "metadata": {},
   "outputs": [],
   "source": [
    "#menu bar\n",
    "from tkinter import *\n",
    "root=Tk()\n",
    "root.title('Menu')\n",
    "root.geometry('550x550')\n",
    "menubar=Menu(root)\n",
    "file=Menu(menubar,tearoff=0)\n",
    "file.add_command(label='New')\n",
    "file.add_command(label='Save')\n",
    "file.add_command(label='Open')\n",
    "menubar.add_cascade(label='File',menu=file)\n",
    "edit=Menu(menubar)\n",
    "edit.add_command(label='Edit')\n",
    "edit.add_command(label='Adobe')\n",
    "menubar.add_cascade(label='Edit',menu=edit)\n",
    "root.config(menu=menubar)\n",
    "root.mainloop()"
   ]
  },
  {
   "cell_type": "code",
   "execution_count": 8,
   "id": "82663000",
   "metadata": {},
   "outputs": [
    {
     "ename": "AttributeError",
     "evalue": "'_tkinter.tkapp' object has no attribute 'Dropdown'",
     "output_type": "error",
     "traceback": [
      "\u001b[1;31m---------------------------------------------------------------------------\u001b[0m",
      "\u001b[1;31mAttributeError\u001b[0m                            Traceback (most recent call last)",
      "Cell \u001b[1;32mIn[8], line 7\u001b[0m\n\u001b[0;32m      4\u001b[0m menu_options \u001b[38;5;241m=\u001b[39m [\u001b[38;5;124m'\u001b[39m\u001b[38;5;124mFile\u001b[39m\u001b[38;5;124m'\u001b[39m, \u001b[38;5;124m'\u001b[39m\u001b[38;5;124mEdit\u001b[39m\u001b[38;5;124m'\u001b[39m, \u001b[38;5;124m'\u001b[39m\u001b[38;5;124mView\u001b[39m\u001b[38;5;124m'\u001b[39m, \u001b[38;5;124m'\u001b[39m\u001b[38;5;124mHelp\u001b[39m\u001b[38;5;124m'\u001b[39m]\n\u001b[0;32m      6\u001b[0m \u001b[38;5;66;03m# Create dropdown widget\u001b[39;00m\n\u001b[1;32m----> 7\u001b[0m dropdown \u001b[38;5;241m=\u001b[39m \u001b[43mwidgets\u001b[49m\u001b[38;5;241;43m.\u001b[39;49m\u001b[43mDropdown\u001b[49m(options\u001b[38;5;241m=\u001b[39mmenu_options, description\u001b[38;5;241m=\u001b[39m\u001b[38;5;124m'\u001b[39m\u001b[38;5;124mMenu\u001b[39m\u001b[38;5;124m'\u001b[39m)\n\u001b[0;32m      9\u001b[0m \u001b[38;5;66;03m# Create menu bar\u001b[39;00m\n\u001b[0;32m     10\u001b[0m menu_bar \u001b[38;5;241m=\u001b[39m widgets\u001b[38;5;241m.\u001b[39mHBox([dropdown])\n",
      "File \u001b[1;32mC:\\python3.11\\Lib\\tkinter\\__init__.py:2410\u001b[0m, in \u001b[0;36mTk.__getattr__\u001b[1;34m(self, attr)\u001b[0m\n\u001b[0;32m   2408\u001b[0m \u001b[38;5;28;01mdef\u001b[39;00m \u001b[38;5;21m__getattr__\u001b[39m(\u001b[38;5;28mself\u001b[39m, attr):\n\u001b[0;32m   2409\u001b[0m     \u001b[38;5;124m\"\u001b[39m\u001b[38;5;124mDelegate attribute access to the interpreter object\u001b[39m\u001b[38;5;124m\"\u001b[39m\n\u001b[1;32m-> 2410\u001b[0m     \u001b[38;5;28;01mreturn\u001b[39;00m \u001b[38;5;28;43mgetattr\u001b[39;49m\u001b[43m(\u001b[49m\u001b[38;5;28;43mself\u001b[39;49m\u001b[38;5;241;43m.\u001b[39;49m\u001b[43mtk\u001b[49m\u001b[43m,\u001b[49m\u001b[43m \u001b[49m\u001b[43mattr\u001b[49m\u001b[43m)\u001b[49m\n",
      "\u001b[1;31mAttributeError\u001b[0m: '_tkinter.tkapp' object has no attribute 'Dropdown'"
     ]
    }
   ],
   "source": [
    "from tkinter import *\n",
    "\n",
    "# Create menu options\n",
    "menu_options = ['File', 'Edit', 'View', 'Help']\n",
    "\n",
    "# Create dropdown widget\n",
    "dropdown = widgets.Dropdown(options=menu_options, description='Menu')\n",
    "\n",
    "# Create menu bar\n",
    "menu_bar = widgets.HBox([dropdown])\n",
    "\n",
    "# Display menu bar\n",
    "display(menu_bar)"
   ]
  },
  {
   "cell_type": "code",
   "execution_count": 200,
   "id": "5a2d7c32",
   "metadata": {},
   "outputs": [],
   "source": [
    "#pop up window\n",
    "from tkinter import *\n",
    "from tkinter import messagebox\n",
    "root=Tk()\n",
    "root.title('messagebox')\n",
    "root.geometry('550x550')\n",
    "def click():\n",
    "    messagebox.showinfo('message','this is a pop up dialog box...')\n",
    "l=Label(root,text='Dialouge box ',font=12)\n",
    "l.pack(pady=20,padx=25)\n",
    "b=Button(root,text='click me',borderwidth=8,command=click)\n",
    "b.pack(pady=20,padx=20)\n",
    "root.mainloop()"
   ]
  },
  {
   "cell_type": "code",
   "execution_count": 9,
   "id": "212ec8ca",
   "metadata": {},
   "outputs": [],
   "source": [
    "from tkinter import *\n",
    "def button_click(number):\n",
    "    current = display.get()\n",
    "    display.delete(0, END)\n",
    "    display.insert(END, current + str(number))\n",
    "\n",
    "def button_clear():\n",
    "    display.delete(0, END)\n",
    "\n",
    "def button_equal():\n",
    "    try:\n",
    "        expression = display.get()\n",
    "        result = eval(expression)\n",
    "        display.delete(0, END)\n",
    "        display.insert(END, str(result))\n",
    "    except Exception:\n",
    "        display.delete(0,END)\n",
    "        display.insert(END, \"Error\")\n",
    "\n",
    "# Create the main window\n",
    "window = Tk()\n",
    "window.title(\"Calculator\")\n",
    "\n",
    "# Create the display\n",
    "display = Entry(window, width=30)\n",
    "display.grid(row=0, column=0, columnspan=4, padx=10, pady=10)\n",
    "\n",
    "# Create the number buttons\n",
    "for i in range(1, 10):\n",
    "    button = Button(window, text=str(i), padx=20, pady=10, command=lambda num=i: button_click(num))\n",
    "    button.grid(row=(i - 1) // 3 + 1, column=(i - 1) % 3)\n",
    "\n",
    "# Create the operator buttons\n",
    "operators = ['+', '-', '*', '/']\n",
    "for i, operator in enumerate(operators):\n",
    "    button =Button(window, text=operator, padx=20, pady=10, command=lambda op=operator: button_click(op))\n",
    "    button.grid(row=i + 1, column=3)\n",
    "\n",
    "# Create the other buttons\n",
    "button_zero = Button(window, text='0', padx=20, pady=10, command=lambda: button_click(0))\n",
    "button_zero.grid(row=4, column=0)\n",
    "\n",
    "button_clear = Button(window, text='C', padx=20, pady=10, command=button_clear)\n",
    "button_clear.grid(row=4, column=1)\n",
    "\n",
    "button_equal = Button(window, text='=', padx=20, pady=10, command=button_equal)\n",
    "button_equal.grid(row=4, column=2)\n",
    "\n",
    "button_decimal = Button(window, text='.', padx=20, pady=10, command=lambda: button_click('.'))\n",
    "button_decimal.grid(row=5, column=3)\n",
    "l=Label(text='CASIO',bg='lightpink',fg='red')\n",
    "l.grid(row=5,columnspan=2)\n",
    "# Run the main loop\n",
    "window.mainloop()\n"
   ]
  },
  {
   "cell_type": "markdown",
   "id": "437eb084",
   "metadata": {},
   "source": [
    "Write a Python GUI program to create a Text widget using tkinter module. Insert a string at\n",
    "the beginning then insert a string into the current text. Delete the first and last character of\n",
    "the text. "
   ]
  },
  {
   "cell_type": "code",
   "execution_count": 206,
   "id": "3d2da764",
   "metadata": {},
   "outputs": [],
   "source": [
    "import tkinter as tk\n",
    "\n",
    "def insert_text():\n",
    "    text_widget.insert(\"1.0\", \"Inserted at the beginning.\\n\")\n",
    "\n",
    "def insert_current():\n",
    "    current_position = text_widget.index(\"insert\")\n",
    "    text_widget.insert(current_position, \"Inserted at current position.\\n\")\n",
    "\n",
    "def delete_text():\n",
    "    text_widget.delete(\"1.0\", \"1.1\")\n",
    "    text_widget.delete(\"end-1c\", \"end\")\n",
    "\n",
    "root = tk.Tk()\n",
    "\n",
    "text_widget = tk.Text(root)\n",
    "text_widget.pack()\n",
    "\n",
    "insert_btn = tk.Button(root, text=\"Insert at Beginning\", command=insert_text)\n",
    "insert_btn.pack()\n",
    "\n",
    "insert_current_btn = tk.Button(root, text=\"Insert at Current\", command=insert_current)\n",
    "insert_current_btn.pack()\n",
    "\n",
    "delete_btn = tk.Button(root, text=\"Delete First and Last\", command=delete_text)\n",
    "delete_btn.pack()\n",
    "\n",
    "root.mainloop()\n"
   ]
  },
  {
   "cell_type": "code",
   "execution_count": null,
   "id": "8f36643c",
   "metadata": {},
   "outputs": [],
   "source": []
  }
 ],
 "metadata": {
  "kernelspec": {
   "display_name": "Python 3 (ipykernel)",
   "language": "python",
   "name": "python3"
  },
  "language_info": {
   "codemirror_mode": {
    "name": "ipython",
    "version": 3
   },
   "file_extension": ".py",
   "mimetype": "text/x-python",
   "name": "python",
   "nbconvert_exporter": "python",
   "pygments_lexer": "ipython3",
   "version": "3.11.1"
  }
 },
 "nbformat": 4,
 "nbformat_minor": 5
}
