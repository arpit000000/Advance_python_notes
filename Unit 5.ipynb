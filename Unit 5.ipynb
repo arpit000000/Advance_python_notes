{
 "cells": [
  {
   "cell_type": "markdown",
   "id": "55e95562",
   "metadata": {},
   "source": [
    "Q.1 Differentiate between Array and List.\n",
    "\n",
    "AnsArray:\n",
    "\n",
    "Arrays have a fixed size that is determined when they are created.\n",
    "\n",
    "Elements in an array are accessed using an index starting from 0.\n",
    "\n",
    "Arrays can only store elements of the same data type.\n",
    "\n",
    "Memory for arrays is allocated in a contiguous block.\n",
    "\n",
    "List:\n",
    "\n",
    "Lists can dynamically grow or shrink in size.\n",
    "\n",
    "Elements in a list can be accessed by traversing the list or using specific methods.\n",
    "\n",
    "Lists can store elements of different data types.\n",
    "\n",
    "Memory for lists is allocated dynamically and does not require contiguous blocks."
   ]
  },
  {
   "cell_type": "markdown",
   "id": "f402ea24",
   "metadata": {},
   "source": [
    "Q2. What do you mean by data visualization technique? Also Explain how data visulation can help in desion making?\n",
    "\n",
    "Ans. Data visualization techniques refer to the use of graphical or visual representations to present data in a meaningful and easily understandable way. It involves the creation of charts, graphs, maps, and other visual elements to visually represent complex data sets, patterns, and relationships.\n",
    "\n",
    "Data visualization can significantly aid decision-making processes in several ways:\n",
    "\n",
    "1. Data Comprehension: Visualization allows individuals to understand complex data sets quickly. By representing data visually, patterns, trends, and outliers become more apparent, enabling decision-makers to grasp information more effectively than through raw data alone.\n",
    "\n",
    "2. Insights and Discoveries: Visualizing data can reveal hidden insights and relationships that may not be immediately evident in the raw data. By exploring interactive visualizations or examining patterns in graphs, decision-makers can gain new perspectives, make connections, and identify opportunities or potential risks.\n",
    "\n",
    "3. Communication and Collaboration: Visual representations of data facilitate communication and collaboration among team members or stakeholders. When discussing data-driven insights or sharing findings, visualizations serve as a common language that transcends technical jargon and helps convey information clearly and persuasively.\n",
    "\n",
    "4. Decision Validation: Visualizations can help validate decisions or hypotheses by presenting supporting evidence. When decision-makers see data represented visually, it becomes easier to evaluate the impact of different options, compare scenarios, and assess potential outcomes. This validation process enhances confidence in decision-making and reduces reliance on intuition alone.\n",
    "\n",
    "5. Storytelling and Presentations: Visualizations can be powerful storytelling tools. By crafting compelling narratives through visual representations, decision-makers can effectively communicate their findings, persuade stakeholders, and guide actions based on the insights gained from the data.\n",
    "\n",
    "Overall, data visualization enables decision-makers to derive actionable insights, identify trends, communicate effectively, validate decisions, and enhance the understanding of complex information. By leveraging visual representations, organizations can make more informed decisions, respond to challenges swiftly, and uncover new opportunities for growth and improvement."
   ]
  },
  {
   "cell_type": "markdown",
   "id": "8b4b41ca",
   "metadata": {},
   "source": [
    "Q3. What is dataframe in pandas and also write a program to read data from student.csv file with attributes Student_Name,Student_Marks and Roll_Number. Calculate average marks , minimum marks and maximum marks of student using dataframe.\n",
    "\n",
    "Ans. DataFrame is a two-dimensional tabular data structure that stores data in rows and columns. It is similar to a spreadsheet or a SQL table. The DataFrame provides a flexible and efficient way to manipulate and analyze data."
   ]
  },
  {
   "cell_type": "code",
   "execution_count": 20,
   "id": "ee58999b",
   "metadata": {},
   "outputs": [
    {
     "name": "stdout",
     "output_type": "stream",
     "text": [
      "    st_id  roll_no NAME BRANCH  marks1  marks2  marks3\n",
      "0       1        1    A    CSE      50      45      95\n",
      "1       3        2    B    CSE       9      67      96\n",
      "2       5        3    C    CSE      80      89      90\n",
      "3      32        4    D    CSE      60      34      85\n",
      "4      21        5    E     DS      33      56      50\n",
      "5      54        6    F     DS      44      76      70\n",
      "6      65        7    G   AIML      56      87      95\n",
      "7       7        8    H   AIML       2      65      65\n",
      "8       2        9    I   AIML      76      34      75\n",
      "9       4       10    J   AIML      21      65      70\n",
      "10      8       11    L     DS      56      98      80\n",
      "11      9       12    M     DS      67      54      85\n",
      "12     10       13    N    CSE      76       6      65\n"
     ]
    }
   ],
   "source": [
    "import pandas as pd\n",
    "a=pd.read_csv(r'C:\\Users\\Arpit\\Desktop\\pandas\\studentrec1.csv')\n",
    "print(a)"
   ]
  },
  {
   "cell_type": "code",
   "execution_count": 21,
   "id": "42660a70",
   "metadata": {},
   "outputs": [
    {
     "data": {
      "text/html": [
       "<div>\n",
       "<style scoped>\n",
       "    .dataframe tbody tr th:only-of-type {\n",
       "        vertical-align: middle;\n",
       "    }\n",
       "\n",
       "    .dataframe tbody tr th {\n",
       "        vertical-align: top;\n",
       "    }\n",
       "\n",
       "    .dataframe thead th {\n",
       "        text-align: right;\n",
       "    }\n",
       "</style>\n",
       "<table border=\"1\" class=\"dataframe\">\n",
       "  <thead>\n",
       "    <tr style=\"text-align: right;\">\n",
       "      <th></th>\n",
       "      <th>marks1</th>\n",
       "      <th>marks2</th>\n",
       "    </tr>\n",
       "  </thead>\n",
       "  <tbody>\n",
       "    <tr>\n",
       "      <th>min</th>\n",
       "      <td>2.000000</td>\n",
       "      <td>6.000000</td>\n",
       "    </tr>\n",
       "    <tr>\n",
       "      <th>max</th>\n",
       "      <td>80.000000</td>\n",
       "      <td>98.000000</td>\n",
       "    </tr>\n",
       "    <tr>\n",
       "      <th>mean</th>\n",
       "      <td>48.461538</td>\n",
       "      <td>59.692308</td>\n",
       "    </tr>\n",
       "  </tbody>\n",
       "</table>\n",
       "</div>"
      ],
      "text/plain": [
       "         marks1     marks2\n",
       "min    2.000000   6.000000\n",
       "max   80.000000  98.000000\n",
       "mean  48.461538  59.692308"
      ]
     },
     "execution_count": 21,
     "metadata": {},
     "output_type": "execute_result"
    }
   ],
   "source": [
    "a.aggregate({'marks1':['min','max','mean'],'marks2':['min','max','mean']})"
   ]
  },
  {
   "cell_type": "code",
   "execution_count": 22,
   "id": "b6bcad66",
   "metadata": {},
   "outputs": [
    {
     "name": "stdout",
     "output_type": "stream",
     "text": [
      "80\n",
      "6\n",
      "48.46153846153846\n",
      "630\n",
      "56.0\n"
     ]
    }
   ],
   "source": [
    "print(a.marks1.max())\n",
    "print(a.marks2.min())\n",
    "print(a.marks1.mean())\n",
    "print(a.marks1.sum())\n",
    "print(a.marks1.median())"
   ]
  },
  {
   "cell_type": "code",
   "execution_count": 43,
   "id": "bde9a342",
   "metadata": {},
   "outputs": [
    {
     "data": {
      "text/html": [
       "<div>\n",
       "<style scoped>\n",
       "    .dataframe tbody tr th:only-of-type {\n",
       "        vertical-align: middle;\n",
       "    }\n",
       "\n",
       "    .dataframe tbody tr th {\n",
       "        vertical-align: top;\n",
       "    }\n",
       "\n",
       "    .dataframe thead th {\n",
       "        text-align: right;\n",
       "    }\n",
       "</style>\n",
       "<table border=\"1\" class=\"dataframe\">\n",
       "  <thead>\n",
       "    <tr style=\"text-align: right;\">\n",
       "      <th></th>\n",
       "      <th>Name</th>\n",
       "      <th>Age</th>\n",
       "    </tr>\n",
       "  </thead>\n",
       "  <tbody>\n",
       "    <tr>\n",
       "      <th>0</th>\n",
       "      <td>John</td>\n",
       "      <td>25</td>\n",
       "    </tr>\n",
       "    <tr>\n",
       "      <th>1</th>\n",
       "      <td>Alice</td>\n",
       "      <td>30</td>\n",
       "    </tr>\n",
       "  </tbody>\n",
       "</table>\n",
       "</div>"
      ],
      "text/plain": [
       "    Name  Age\n",
       "0   John   25\n",
       "1  Alice   30"
      ]
     },
     "execution_count": 43,
     "metadata": {},
     "output_type": "execute_result"
    }
   ],
   "source": [
    "import pandas as pd\n",
    "df = pd.DataFrame({'Name': ['John', 'Alice'],\n",
    "                   'Age': [25, 30]})\n",
    "df"
   ]
  },
  {
   "cell_type": "code",
   "execution_count": 44,
   "id": "d2cb62fe",
   "metadata": {},
   "outputs": [
    {
     "name": "stdout",
     "output_type": "stream",
     "text": [
      "0     John\n",
      "1    Alice\n",
      "Name: Name, dtype: object\n"
     ]
    }
   ],
   "source": [
    "#column selection\n",
    "print(df['Name'])\n",
    "df.insert(1,'Sur Name',['Warner','Dhoni'])#addition\n"
   ]
  },
  {
   "cell_type": "code",
   "execution_count": 45,
   "id": "75bc9fdd",
   "metadata": {},
   "outputs": [
    {
     "name": "stdout",
     "output_type": "stream",
     "text": [
      "    Name Sur Name  Age\n",
      "0   John   Warner   25\n",
      "1  Alice    Dhoni   30\n"
     ]
    },
    {
     "data": {
      "text/html": [
       "<div>\n",
       "<style scoped>\n",
       "    .dataframe tbody tr th:only-of-type {\n",
       "        vertical-align: middle;\n",
       "    }\n",
       "\n",
       "    .dataframe tbody tr th {\n",
       "        vertical-align: top;\n",
       "    }\n",
       "\n",
       "    .dataframe thead th {\n",
       "        text-align: right;\n",
       "    }\n",
       "</style>\n",
       "<table border=\"1\" class=\"dataframe\">\n",
       "  <thead>\n",
       "    <tr style=\"text-align: right;\">\n",
       "      <th></th>\n",
       "      <th>Name</th>\n",
       "      <th>Age</th>\n",
       "    </tr>\n",
       "  </thead>\n",
       "  <tbody>\n",
       "    <tr>\n",
       "      <th>0</th>\n",
       "      <td>John</td>\n",
       "      <td>25</td>\n",
       "    </tr>\n",
       "    <tr>\n",
       "      <th>1</th>\n",
       "      <td>Alice</td>\n",
       "      <td>30</td>\n",
       "    </tr>\n",
       "  </tbody>\n",
       "</table>\n",
       "</div>"
      ],
      "text/plain": [
       "    Name  Age\n",
       "0   John   25\n",
       "1  Alice   30"
      ]
     },
     "execution_count": 45,
     "metadata": {},
     "output_type": "execute_result"
    }
   ],
   "source": [
    "print(df)\n",
    "df.drop('Sur Name',axis=1)"
   ]
  },
  {
   "cell_type": "code",
   "execution_count": 47,
   "id": "4ba4fd79",
   "metadata": {},
   "outputs": [
    {
     "name": "stdout",
     "output_type": "stream",
     "text": [
      "Name        Alice\n",
      "Sur Name    Dhoni\n",
      "Age            30\n",
      "Name: 1, dtype: object\n"
     ]
    },
    {
     "data": {
      "text/html": [
       "<div>\n",
       "<style scoped>\n",
       "    .dataframe tbody tr th:only-of-type {\n",
       "        vertical-align: middle;\n",
       "    }\n",
       "\n",
       "    .dataframe tbody tr th {\n",
       "        vertical-align: top;\n",
       "    }\n",
       "\n",
       "    .dataframe thead th {\n",
       "        text-align: right;\n",
       "    }\n",
       "</style>\n",
       "<table border=\"1\" class=\"dataframe\">\n",
       "  <thead>\n",
       "    <tr style=\"text-align: right;\">\n",
       "      <th></th>\n",
       "      <th>Name</th>\n",
       "      <th>Sur Name</th>\n",
       "      <th>Age</th>\n",
       "    </tr>\n",
       "  </thead>\n",
       "  <tbody>\n",
       "    <tr>\n",
       "      <th>0</th>\n",
       "      <td>John</td>\n",
       "      <td>Warner</td>\n",
       "      <td>25</td>\n",
       "    </tr>\n",
       "  </tbody>\n",
       "</table>\n",
       "</div>"
      ],
      "text/plain": [
       "   Name Sur Name  Age\n",
       "0  John   Warner   25"
      ]
     },
     "execution_count": 47,
     "metadata": {},
     "output_type": "execute_result"
    }
   ],
   "source": [
    "#row\n",
    "print(df.loc[1])\n",
    "df.drop(1)"
   ]
  },
  {
   "cell_type": "code",
   "execution_count": 49,
   "id": "8acc1891",
   "metadata": {},
   "outputs": [
    {
     "name": "stdout",
     "output_type": "stream",
     "text": [
      "    Name Sur Name  Age\n",
      "0   John   Warner   25\n",
      "1  Arpit      NaN   40\n"
     ]
    }
   ],
   "source": [
    "df.loc[1]={'Name':'Arpit','Age':40}\n",
    "print(df)"
   ]
  },
  {
   "cell_type": "markdown",
   "id": "25025768",
   "metadata": {},
   "source": [
    "Q4. What is meaning of axis=0 and axis=1?\n",
    "\n",
    "Ansaxis=0: This parameter refers to the rows axis. When axis=0 is used, it indicates that the operation or function is applied vertically, row-wise. It represents operations that are performed on each row of the DataFrame or Series.\n",
    "\n",
    "axis=1: This parameter refers to the columns axis. When axis=1 is used, it indicates that the operation or function is applied horizontally, column-wise. It represents operations that are performed on each column of the DataFrame or Series."
   ]
  },
  {
   "cell_type": "code",
   "execution_count": 25,
   "id": "b26b3200",
   "metadata": {},
   "outputs": [
    {
     "name": "stdout",
     "output_type": "stream",
     "text": [
      "[[ 1  2  3  4  5]\n",
      " [ 6  7  8  9 10]\n",
      " [11 12 13 14 15]]\n",
      "[18 21 24 27 30]\n",
      "[15 40 65]\n"
     ]
    }
   ],
   "source": [
    "import pandas as pd\n",
    "import numpy as np\n",
    "a=np.arange(1,16).reshape(3,5)\n",
    "print(a)\n",
    "b=np.sum(a,axis=0)\n",
    "print(b)\n",
    "c=np.sum(a,axis=1)\n",
    "print(c)"
   ]
  },
  {
   "cell_type": "code",
   "execution_count": 29,
   "id": "c0e669de",
   "metadata": {},
   "outputs": [
    {
     "name": "stdout",
     "output_type": "stream",
     "text": [
      "    Name Department  City\n",
      "0  Arpit        CSE  Agra\n",
      "1  Aryan         IT  Agra\n",
      "    Name Department District\n",
      "0  Arpit        CSE     Agra\n",
      "1  Aryan         IT     Agra\n"
     ]
    }
   ],
   "source": [
    "#Q5 create a dict and data frame\n",
    "d={'Name':['Arpit','Aryan'],'Department':['CSE','IT'],'City':['Agra','Agra']}\n",
    "a=pd.DataFrame(d)\n",
    "print(a)\n",
    "print(a.rename(columns={'City':'District'}))"
   ]
  },
  {
   "cell_type": "code",
   "execution_count": 30,
   "id": "829d6f87",
   "metadata": {},
   "outputs": [
    {
     "name": "stdout",
     "output_type": "stream",
     "text": [
      "    a   b     c\n",
      "0  10  20   NaN\n",
      "1   5  10  20.0\n"
     ]
    }
   ],
   "source": [
    "#q\n",
    "l=[{'a':10,'b':20},{'a':5,'b':10,'c':20}]\n",
    "d=pd.DataFrame(l)\n",
    "print(d)"
   ]
  },
  {
   "cell_type": "markdown",
   "id": "92fa4488",
   "metadata": {},
   "source": [
    "Q6. Why should be use Numpy arrays instead of nested Python lists?\n",
    "\n",
    "Ans. Using NumPy arrays instead of nested Python lists offers several advantages:\n",
    "\n",
    "1. **Performance**: NumPy arrays are implemented in C, which makes them much faster than Python lists. NumPy's arrays are contiguous in memory and allow for vectorized operations, meaning that mathematical operations can be applied to entire arrays rather than looping over individual elements. This leads to significantly improved computational efficiency, especially for large datasets.\n",
    "\n",
    "2. **Memory Efficiency**: NumPy arrays are more memory-efficient compared to nested Python lists. In Python, each element in a list is a separate Python object with its own overhead, whereas NumPy arrays store homogeneous data types in a compact, contiguous block of memory. This reduces the memory footprint and allows for efficient storage and manipulation of large datasets.\n",
    "\n",
    "3. **Convenience**: NumPy provides a wide range of built-in functions and operations specifically designed for arrays. These include mathematical operations, statistical functions, linear algebra routines, Fourier transforms, and more. NumPy's array operations are concise and optimized, enabling you to write more efficient and readable code.\n",
    "\n",
    "4. **Indexing and Slicing**: NumPy arrays offer advanced indexing and slicing capabilities that are not available with nested Python lists. You can access elements, rows, columns, or subarrays of an array using integer indexing, boolean indexing, or even more complex indexing techniques. This makes it easy to manipulate and extract data from arrays, enabling efficient data processing and analysis.\n",
    "\n",
    "5. **Integration with Other Libraries**: NumPy arrays are widely used in the scientific Python ecosystem and are compatible with many other libraries and tools such as SciPy, Matplotlib, Pandas, and scikit-learn. This seamless integration allows for efficient data exchange and interoperability between different libraries, facilitating complex data analysis workflows.\n",
    "\n",
    "Overall, using NumPy arrays instead of nested Python lists provides improved performance, memory efficiency, and a wide range of built-in functions for scientific computations. It enables faster execution of numerical operations, reduced memory usage, and better integration with other scientific libraries, making it the preferred choice for numerical computing tasks."
   ]
  },
  {
   "cell_type": "markdown",
   "id": "78f53633",
   "metadata": {},
   "source": [
    "Q7. Explain 5 sub module of scipy?\n",
    "\n",
    "Ans.Scipy is a powerful scientific computing library in Python that provides a wide range of modules and functions for various scientific and numerical computations. Here are five important submodules of Scipy:\n",
    "\n",
    "1. scipy.stats:\n",
    "The `scipy.stats` submodule offers a comprehensive set of statistical functions and probability distributions. It provides methods for statistical analysis, random number generation, hypothesis testing, and more. You can compute various statistical measures, fit data to probability distributions, perform hypothesis tests, and estimate parameters.\n",
    "\n",
    "2. scipy.optimize:\n",
    "The `scipy.optimize` submodule provides functions for mathematical optimization problems. It includes methods for both constrained and unconstrained optimization. You can use it to minimize or maximize objective functions, solve linear and nonlinear programming problems, perform curve fitting, and find roots of equations.\n",
    "\n",
    "3. scipy.linalg:\n",
    "The `scipy.linalg` submodule focuses on linear algebra operations. It provides a collection of functions for matrix decompositions, solving linear systems, eigenvalue problems, and other linear algebra computations. You can perform operations such as matrix inversion, matrix factorization, singular value decomposition (SVD), and more.\n",
    "\n",
    "4. scipy.signal:\n",
    "The `scipy.signal` submodule is dedicated to signal processing. It offers a variety of functions for digital signal processing tasks, including filtering, spectral analysis, convolution, and signal generation. You can apply filters, design digital filters, compute the Fourier transform, perform signal convolutions, and analyze frequency response.\n",
    "\n",
    "5. scipy.integrate:\n",
    "The `scipy.integrate` submodule provides functions for numerical integration. It offers various integration techniques, including both ordinary differential equations (ODEs) and numerical quadrature methods. You can solve initial value problems for ODEs, perform numerical integration of functions, evaluate multiple integrals, and compute definite integrals.\n",
    "\n",
    "These are just a few of the many submodules available in Scipy. Each submodule focuses on a specific area of scientific computing, allowing users to perform complex computations efficiently and accurately."
   ]
  },
  {
   "cell_type": "code",
   "execution_count": 54,
   "id": "e7da4e83",
   "metadata": {},
   "outputs": [
    {
     "name": "stdout",
     "output_type": "stream",
     "text": [
      "[ 12  34  56  78   3 200   2   7   8   9  11  10  15] [  3 200   2   7]\n"
     ]
    }
   ],
   "source": [
    "Arr1=np.array([12,34,56,78,3,5,2,7,8,9,11,10,15])\n",
    "Arr2=Arr1[4:8]\n",
    "Arr2[1]=200\n",
    "print(Arr1,Arr2)"
   ]
  },
  {
   "cell_type": "code",
   "execution_count": 1,
   "id": "9c1ca3d4",
   "metadata": {},
   "outputs": [],
   "source": [
    "import matplotlib.pyplot as plt"
   ]
  },
  {
   "cell_type": "code",
   "execution_count": 6,
   "id": "4ccc7df6",
   "metadata": {},
   "outputs": [
    {
     "data": {
      "image/png": "[encoded data removed]",
      "text/plain": [
       "<Figure size 640x480 with 1 Axes>"
      ]
     },
     "metadata": {},
     "output_type": "display_data"
    }
   ],
   "source": [
    "plt.plot([2,4,6,8],[10,20,30,40])\n",
    "plt.xlabel('time')\n",
    "plt.ylabel('distance')\n",
    "plt.title('time vs distance')\n",
    "plt.grid()\n",
    "plt.show()"
   ]
  },
  {
   "cell_type": "code",
   "execution_count": 23,
   "id": "0e6bb6f2",
   "metadata": {},
   "outputs": [
    {
     "data": {
      "image/png": "[encoded data removed]",
      "text/plain": [
       "<Figure size 600x600 with 1 Axes>"
      ]
     },
     "metadata": {},
     "output_type": "display_data"
    }
   ],
   "source": [
    "import matplotlib.pyplot as plt\n",
    "L=['Hindi','English','Tamil','Bengali','Marathi']\n",
    "N=[40,12,7,4,9]\n",
    "plt.figure(figsize=(6,6))\n",
    "plt.pie(N,labels=L,startangle=90,autopct='1%.1f%%')\n",
    "plt.title('Data')\n",
    "plt.show()"
   ]
  },
  {
   "cell_type": "code",
   "execution_count": 24,
   "id": "24c62f4e",
   "metadata": {},
   "outputs": [
    {
     "data": {
      "image/png": "[encoded data removed]",
      "text/plain": [
       "<Figure size 640x480 with 1 Axes>"
      ]
     },
     "metadata": {},
     "output_type": "display_data"
    }
   ],
   "source": [
    "#stack\n",
    "import matplotlib.pyplot as plt\n",
    "L=['Hindi','English','Tamil','Bengali','Marathi']\n",
    "N1=[40,12,7,4,9]\n",
    "N2=[30,12,32,4,6]\n",
    "N3=[3,65,43,21,32]\n",
    "plt.stackplot(L,N1,N2,N3,labels=['Group1','Group2','Group3'])\n",
    "plt.legend()\n",
    "plt.title('Data')\n",
    "plt.xlabel('Languages')\n",
    "plt.ylabel('No. of Students')\n",
    "plt.show()"
   ]
  },
  {
   "cell_type": "code",
   "execution_count": 26,
   "id": "9f23bf5f",
   "metadata": {},
   "outputs": [
    {
     "data": {
      "image/png": "[encoded data removed]",
      "text/plain": [
       "<Figure size 640x480 with 1 Axes>"
      ]
     },
     "metadata": {},
     "output_type": "display_data"
    }
   ],
   "source": [
    "#bar chart\n",
    "plt.bar(L,N1,color='Red')\n",
    "plt.xlabel('Language')\n",
    "plt.ylabel('No. Of Students')\n",
    "plt.title('Data')\n",
    "plt.show()"
   ]
  },
  {
   "cell_type": "code",
   "execution_count": null,
   "id": "ba786f56",
   "metadata": {},
   "outputs": [],
   "source": []
  }
 ],
 "metadata": {
  "kernelspec": {
   "display_name": "Python 3 (ipykernel)",
   "language": "python",
   "name": "python3"
  },
  "language_info": {
   "codemirror_mode": {
    "name": "ipython",
    "version": 3
   },
   "file_extension": ".py",
   "mimetype": "text/x-python",
   "name": "python",
   "nbconvert_exporter": "python",
   "pygments_lexer": "ipython3",
   "version": "3.11.1"
  }
 },
 "nbformat": 4,
 "nbformat_minor": 5
}
