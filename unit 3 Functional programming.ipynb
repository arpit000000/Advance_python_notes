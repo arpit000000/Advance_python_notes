{
 "cells": [
  {
   "cell_type": "code",
   "execution_count": null,
   "id": "d6f3932b",
   "metadata": {},
   "outputs": [],
   "source": []
  },
  {
   "cell_type": "markdown",
   "id": "be882137",
   "metadata": {},
   "source": [
    "In Python, a decorator is a special type of function that can be used to modify or enhance the behavior of another function without changing its source code. Decorators provide a way to wrap a function and execute some code before and/or after the wrapped function's execution. They provide a way to add additional functionality to functions without modifying their code directly. decorator usually called before the defination of a function.\n",
    "There are 2 types of decorator:\n",
    "1. Built in decorator: @staticmethod,@classmethod,@abstractclass and @property etc.\n",
    "2. User defined decorator: they create according to our need."
   ]
  },
  {
   "cell_type": "code",
   "execution_count": 2,
   "id": "f6991d1a",
   "metadata": {},
   "outputs": [
    {
     "name": "stdout",
     "output_type": "stream",
     "text": [
      "Before the function is called\n",
      "Hello, world!\n",
      "After the function is called\n"
     ]
    }
   ],
   "source": [
    "def decorator_function(original_function):\n",
    "    def wrapper_function():\n",
    "        print(\"Before the function is called\")\n",
    "        original_function()\n",
    "        print(\"After the function is called\")\n",
    "    return wrapper_function\n",
    "\n",
    "@decorator_function\n",
    "def hello():\n",
    "    print(\"Hello, world!\")\n",
    "hello()"
   ]
  },
  {
   "cell_type": "code",
   "execution_count": 14,
   "id": "618e990f",
   "metadata": {},
   "outputs": [
    {
     "name": "stdout",
     "output_type": "stream",
     "text": [
      "7585\n",
      "time taken by: fun 2.0010955333709717\n"
     ]
    }
   ],
   "source": [
    "import time\n",
    "def check_time(fun):\n",
    "    def inner(*k):\n",
    "        start=time.time()\n",
    "        fun(*k)\n",
    "        stop=time.time()\n",
    "        print('time taken by:',fun.__name__ ,stop-start)\n",
    "    return inner\n",
    "@check_time\n",
    "def fun():\n",
    "    print(55+7530)\n",
    "    time.sleep(2)\n",
    "fun()"
   ]
  },
  {
   "cell_type": "code",
   "execution_count": 15,
   "id": "d43040ae",
   "metadata": {},
   "outputs": [
    {
     "name": "stdout",
     "output_type": "stream",
     "text": [
      "20\n",
      "time taken by: mul 0.0\n"
     ]
    }
   ],
   "source": [
    "@check_time\n",
    "def mul(a,b):\n",
    "    print(a*b)\n",
    "mul(5,4)\n",
    "    "
   ]
  },
  {
   "cell_type": "code",
   "execution_count": 16,
   "id": "ea484a62",
   "metadata": {},
   "outputs": [
    {
     "name": "stdout",
     "output_type": "stream",
     "text": [
      "4\n"
     ]
    }
   ],
   "source": [
    "def check(data_type):\n",
    "    def outer(fun):\n",
    "        def inner(*args):\n",
    "            if type(*args) == data_type:\n",
    "                fun(*args)\n",
    "            else:\n",
    "                raise TypeError(\"ye datatype nhi chalega\")\n",
    "        return inner\n",
    "    return outer\n",
    "@check(int)\n",
    "def square(num):\n",
    "    print(num**2)\n",
    "square(2)"
   ]
  },
  {
   "cell_type": "markdown",
   "id": "e999de3f",
   "metadata": {},
   "source": [
    "In Python, a closure is a function object that has access to variables in its enclosing scope, even when the enclosing function has finished executing. It \"remembers\" the values of these variables and can still access them later. The interesting part is that even after the outer_function has finished executing and returned the inner_function, the inner_function still retains access to the variable x. This is what makes it a closure.\n",
    "Characteristics of closures:\n",
    "\n",
    "Data Encapsulation: Closures encapsulate the variables from their enclosing scope, binding them together with the function code that operates on them.\n",
    "\n",
    "Access to Enclosing Scope: Closures have access to variables from their containing scope, including the scope of the outer function. This is possible because the closure carries the references to those variables."
   ]
  },
  {
   "cell_type": "code",
   "execution_count": 4,
   "id": "ac8ad5ac",
   "metadata": {},
   "outputs": [
    {
     "name": "stdout",
     "output_type": "stream",
     "text": [
      "10\n",
      "12\n"
     ]
    }
   ],
   "source": [
    "def outer(x):\n",
    "    def inner(y):\n",
    "        print(x+y)\n",
    "    return inner# it returns the inner as a closure.\n",
    "h=outer(5)\n",
    "h(5)\n",
    "h(7)"
   ]
  },
  {
   "cell_type": "code",
   "execution_count": null,
   "id": "f5147466",
   "metadata": {},
   "outputs": [],
   "source": []
  },
  {
   "cell_type": "markdown",
   "id": "cb9b9eae",
   "metadata": {},
   "source": [
    "Iterables:\n",
    "An iterable is any object in Python that can be looped over or iterated upon. It provides a way to access its elements one at a time.To make an object iterable, it needs to implement the __iter__() method, which returns an iterator object.\n",
    "Examples of built-in iterables include lists, strings, dictionaries, sets, etc. \n",
    "\n",
    "Iterator:\n",
    "An iterator is any object in Python that allows the programmer to traverse through a sequence of data without having to store the entire data in the memory. It implements the __iter__() method (which returns itself) and the __next__() method.\n",
    "which retrieves the next element from the stream. The __next__() method raises a StopIteration exception when there are no more elements to be returned. \n",
    "\n",
    "Iteration:\n",
    "Iteration is the process of looping over the elements of an iterable or an iterator. It is typically done using a for loop in Python.\n",
    " When you use a for loop to iterate over an iterable, it automatically calls the iter() function to obtain an iterator, and then it repeatedly calls next() on the iterator until a StopIteration exception is raised."
   ]
  },
  {
   "cell_type": "code",
   "execution_count": 7,
   "id": "a09f4db6",
   "metadata": {},
   "outputs": [
    {
     "ename": "TypeError",
     "evalue": "'list' object is not an iterator",
     "output_type": "error",
     "traceback": [
      "\u001b[1;31m---------------------------------------------------------------------------\u001b[0m",
      "\u001b[1;31mTypeError\u001b[0m                                 Traceback (most recent call last)",
      "Cell \u001b[1;32mIn[7], line 3\u001b[0m\n\u001b[0;32m      1\u001b[0m L\u001b[38;5;241m=\u001b[39m[\u001b[38;5;241m1\u001b[39m,\u001b[38;5;241m2\u001b[39m,\u001b[38;5;241m3\u001b[39m,\u001b[38;5;241m4\u001b[39m]\n\u001b[0;32m      2\u001b[0m \u001b[38;5;28miter\u001b[39m(L)\n\u001b[1;32m----> 3\u001b[0m \u001b[38;5;28;43mnext\u001b[39;49m\u001b[43m(\u001b[49m\u001b[43mL\u001b[49m\u001b[43m)\u001b[49m \u001b[38;5;66;03m#list is iterable not iterator\u001b[39;00m\n",
      "\u001b[1;31mTypeError\u001b[0m: 'list' object is not an iterator"
     ]
    }
   ],
   "source": [
    "L=[1,2,3,4]\n",
    "iter(L)\n",
    "next(L) #list is iterable not iterator"
   ]
  },
  {
   "cell_type": "code",
   "execution_count": 23,
   "id": "50cc6c1a",
   "metadata": {},
   "outputs": [
    {
     "name": "stdout",
     "output_type": "stream",
     "text": [
      "3 7 11 15 19 "
     ]
    }
   ],
   "source": [
    "class odd:\n",
    "    def __init__(self):\n",
    "        self.val=1\n",
    "    def __iter__(self):\n",
    "        return self\n",
    "    def __next__(self):\n",
    "        val=self.val\n",
    "        self.val+=2\n",
    "        return val\n",
    "o=odd()\n",
    "for i in o:\n",
    "    print(next(o),end=' ')\n",
    "    if o.val==21:\n",
    "        break"
   ]
  },
  {
   "cell_type": "code",
   "execution_count": 25,
   "id": "043248ff",
   "metadata": {},
   "outputs": [
    {
     "data": {
      "text/plain": [
       "27"
      ]
     },
     "execution_count": 25,
     "metadata": {},
     "output_type": "execute_result"
    }
   ],
   "source": [
    "next(o)\n",
    "next(o)"
   ]
  },
  {
   "cell_type": "code",
   "execution_count": 15,
   "id": "4e9ff33f",
   "metadata": {},
   "outputs": [
    {
     "name": "stdout",
     "output_type": "stream",
     "text": [
      "0,2,4,6,8,10,12,14,16,18,20,22,24,26,28,30,32,34,36,38,40,42,44,46,48,50,52,54,56,58,60,62,64,66,68,70,72,74,76,78,80,82,84,86,88,90,92,94,96,98,100,"
     ]
    }
   ],
   "source": [
    "class iterable:\n",
    "    def __init__(self,l):\n",
    "        self.limit=l\n",
    "        self.current=0\n",
    "    def __iter__(self):\n",
    "        return self\n",
    "    def __next__(self):\n",
    "        if self.current<=self.limit:\n",
    "            even =self.current\n",
    "            self.current+=2\n",
    "            return even\n",
    "        else:\n",
    "            raise StopIteration\n",
    "a=iterable(100)\n",
    "for i in a:\n",
    "    print(i,end=',')\n",
    "            "
   ]
  },
  {
   "cell_type": "code",
   "execution_count": 17,
   "id": "10db94d1",
   "metadata": {},
   "outputs": [
    {
     "name": "stdout",
     "output_type": "stream",
     "text": [
      "1\n",
      "3\n",
      "5\n",
      "7\n",
      "9\n",
      "11\n",
      "13\n",
      "15\n",
      "17\n",
      "19\n"
     ]
    }
   ],
   "source": [
    "class iterator:\n",
    "    def __init__(self,l):\n",
    "        self.limit=l\n",
    "        self.current=1\n",
    "    def __iter__(self):\n",
    "        return self\n",
    "    def __next__(self):\n",
    "        if self.current<=self.limit:\n",
    "            odd=self.current\n",
    "            self.current+=2\n",
    "            return odd\n",
    "        else:\n",
    "            raise StopIteration\n",
    "a=iterator(20)\n",
    "for i in a:\n",
    "    print(i)\n",
    "        "
   ]
  },
  {
   "cell_type": "code",
   "execution_count": 16,
   "id": "90e7a0d0",
   "metadata": {},
   "outputs": [
    {
     "name": "stdout",
     "output_type": "stream",
     "text": [
      "1\n",
      "4\n",
      "9\n",
      "16\n",
      "25\n",
      "36\n",
      "49\n",
      "64\n",
      "81\n",
      "100\n",
      "121\n"
     ]
    }
   ],
   "source": [
    "class Square:\n",
    "    def __init__(self,n):\n",
    "        self.num=n\n",
    "        self.current=0\n",
    "    def __iter__(self):\n",
    "        return self\n",
    "    def __next__(self):\n",
    "        if self.current<=self.num:\n",
    "            self.current+=1\n",
    "            return self.current**2\n",
    "        else:\n",
    "            raise StopIteration\n",
    "square=Square(10)\n",
    "for i in square:\n",
    "    print(i)"
   ]
  },
  {
   "cell_type": "markdown",
   "id": "f2c91c7e",
   "metadata": {},
   "source": [
    "Generators are a special type of iterator that are defined using a function and the yield keyword. A generator function returns an iterator object that can be iterated over. When a generator function is called, it doesn't execute the whole function at once; instead, it generates values on-the-fly and pauses its execution state between each yield statement.\n",
    "\n",
    "A normal fn that returns a sequence will create the entire sequence in memory before returning the result.This can be a big blow to memory usage while the sequence is very large.\n",
    "The Generator function is memory friendly it does not need to store all items in memory Rather it store only a single value at a time. "
   ]
  },
  {
   "cell_type": "code",
   "execution_count": 2,
   "id": "4a130841",
   "metadata": {},
   "outputs": [],
   "source": [
    "def fib():\n",
    "    a=0\n",
    "    b=1\n",
    "    while True:\n",
    "        yield a\n",
    "        a,b=b,a+b\n",
    "my_generator=fib()"
   ]
  },
  {
   "cell_type": "code",
   "execution_count": 3,
   "id": "b5f944dd",
   "metadata": {},
   "outputs": [
    {
     "name": "stdout",
     "output_type": "stream",
     "text": [
      "0\n",
      "1\n",
      "1\n",
      "2\n",
      "3\n",
      "5\n",
      "8\n",
      "13\n",
      "21\n",
      "34\n"
     ]
    }
   ],
   "source": [
    "for _ in range(10):\n",
    "    print(next(my_generator))"
   ]
  },
  {
   "cell_type": "code",
   "execution_count": 1,
   "id": "b046a5c7",
   "metadata": {},
   "outputs": [
    {
     "name": "stdout",
     "output_type": "stream",
     "text": [
      "time by list: 0.004003286361694336\n",
      "List 800984\n",
      "gen 248\n"
     ]
    }
   ],
   "source": [
    "import sys\n",
    "import time\n",
    "def generator(n):\n",
    "    start_time = time.time()\n",
    "    for i in range(n):\n",
    "        yield i\n",
    "        stop_time = time.time()\n",
    "        print('time by generator:',(stop_time-start_time))\n",
    "l_start=time.time()\n",
    "L=[i for i in range(100000)]\n",
    "l_stop=time.time()\n",
    "print('time by list:',l_stop-l_start)\n",
    "gen=generator(1000000000000)\n",
    "b=sys.getsizeof(L)\n",
    "a=sys.getsizeof(gen)\n",
    "print('List',b)\n",
    "print('gen',a)"
   ]
  },
  {
   "cell_type": "code",
   "execution_count": null,
   "id": "1d9e8757",
   "metadata": {},
   "outputs": [],
   "source": [
    "#generator reverse the string\n",
    "def rev(n):\n",
    "    a=len(n)\n",
    "    b=a\n",
    "    for i in range(a):\n",
    "        yield n[b-1]\n",
    "        b-=1\n",
    "gen=rev('Hello Arpit')\n",
    "for i in gen:\n",
    "    print(i)"
   ]
  },
  {
   "cell_type": "markdown",
   "id": "6874dc3c",
   "metadata": {},
   "source": [
    "Q1.Difference between yield and return.\n",
    "\n",
    "Ans. Return: \"Return\" is a keyword used to exit a function and provide a value back to the caller. When a function encounters a \"return\" statement, it immediately terminates the function's execution and sends the specified value back to the caller. \n",
    "    \n",
    "    Yield: \"Yield\" is a keyword used in the context of generators in some programming languages like Python. A generator is a special type of function that generates a sequence of values instead of returning a single value. When a generator encounters a \"yield\" statement, it pauses its execution, returns the specified value, and saves its current state. The next time the generator is called, it resumes from where it left off, continuing its execution from the \"yield\" statement onward."
   ]
  },
  {
   "cell_type": "code",
   "execution_count": 10,
   "id": "b61dd5c0",
   "metadata": {},
   "outputs": [
    {
     "name": "stdout",
     "output_type": "stream",
     "text": [
      "[[ 1  2  3  4  5]\n",
      " [ 6  7  8  9 10]\n",
      " [11 12 13 14 15]]\n",
      "[1, 6, 11]\n",
      "[2, 7, 12]\n",
      "[3, 8, 13]\n",
      "[4, 9, 14]\n",
      "[5, 10, 15]\n"
     ]
    }
   ],
   "source": [
    "def Transpose(mat):\n",
    "    tmat=[[mat[j][i] for j in range(len(mat))] for i in range(len(mat[0]))]\n",
    "    return tmat\n",
    "import numpy as np\n",
    "a=np.arange(1,16)\n",
    "b=a.reshape(3,5)\n",
    "print(b)\n",
    "var=Transpose(b)\n",
    "for r in var:\n",
    "    print(r)"
   ]
  },
  {
   "cell_type": "code",
   "execution_count": 11,
   "id": "0a4ef33b",
   "metadata": {},
   "outputs": [
    {
     "name": "stdout",
     "output_type": "stream",
     "text": [
      "Decorator 1 before function call\n",
      "Decorator 2 before function call\n",
      "Inside the function\n",
      "Decorator 2 after function call\n",
      "Decorator 1 after function call\n"
     ]
    }
   ],
   "source": [
    "#chain decorator\n",
    "def decorator1(func):\n",
    "    def wrapper(*args, **kwargs):\n",
    "        print(\"Decorator 1 before function call\")\n",
    "        result = func(*args, **kwargs)\n",
    "        print(\"Decorator 1 after function call\")\n",
    "        return result\n",
    "    return wrapper\n",
    "\n",
    "def decorator2(func):\n",
    "    def wrapper(*args, **kwargs):\n",
    "        print(\"Decorator 2 before function call\")\n",
    "        result = func(*args, **kwargs)\n",
    "        print(\"Decorator 2 after function call\")\n",
    "        return result\n",
    "    return wrapper\n",
    "\n",
    "@decorator1\n",
    "@decorator2\n",
    "def my_function():\n",
    "    print(\"Inside the function\")\n",
    "\n",
    "my_function()"
   ]
  },
  {
   "cell_type": "code",
   "execution_count": null,
   "id": "4be0ddcc",
   "metadata": {},
   "outputs": [],
   "source": []
  }
 ],
 "metadata": {
  "kernelspec": {
   "display_name": "Python 3 (ipykernel)",
   "language": "python",
   "name": "python3"
  },
  "language_info": {
   "codemirror_mode": {
    "name": "ipython",
    "version": 3
   },
   "file_extension": ".py",
   "mimetype": "text/x-python",
   "name": "python",
   "nbconvert_exporter": "python",
   "pygments_lexer": "ipython3",
   "version": "3.11.1"
  }
 },
 "nbformat": 4,
 "nbformat_minor": 5
}
