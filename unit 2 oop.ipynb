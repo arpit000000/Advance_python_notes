{
 "cells": [
  {
   "cell_type": "markdown",
   "id": "5529ae30",
   "metadata": {},
   "source": [
    "Q.1 Explain the features of object oriented programming with suitable example"
   ]
  },
  {
   "cell_type": "markdown",
   "id": "31d84626",
   "metadata": {},
   "source": [
    "Object-oriented programming (OOP) is a programming paradigm that focuses on organizing code into objects, which are instances of classes. OOP offers several key features that help in designing and structuring software applications. "
   ]
  },
  {
   "cell_type": "markdown",
   "id": "689d660a",
   "metadata": {},
   "source": [
    "Modularity and code reusability: OOP promotes modular design by encapsulating related data and behavior within objects. Objects can be reused in different parts of the program or in other projects, enhancing code reusability and reducing redundant code.\n",
    "\n",
    "Encapsulation and data hiding: OOP enables data encapsulation, allowing objects to encapsulate data and the operations or methods that manipulate that data. This encapsulation provides data hiding, preventing direct access to the internal implementation details of an object and ensuring that data can only be accessed through defined methods.\n",
    "\n",
    "Code organization and maintenance: OOP provides a structured approach to code organization. Classes and objects represent real-world entities or concepts, making the codebase more intuitive and easier to understand, maintain, and extend. Changes or updates can be made to specific classes without affecting other parts of the codebase.\n",
    "\n",
    "Code extensibility and flexibility: OOP supports inheritance, allowing new classes to inherit properties and behaviors from existing classes. This promotes code extensibility, as new classes can be derived from existing ones, inheriting their attributes and methods while adding or modifying functionality as needed. \n",
    "Abstraction and problem-solving: OOP facilitates abstraction, where complex systems can be represented by simplified models or classes. Abstraction allows programmers to focus on essential features and hide unnecessary details, making problem-solving more manageable and improving the overall design and readability of the code."
   ]
  },
  {
   "cell_type": "markdown",
   "id": "afa3def5",
   "metadata": {},
   "source": [
    "Inheritance is a fundamental concept in object-oriented programming (OOP) that allows classes to inherit properties and behaviors from other classes. It enables the creation of a hierarchy of classes, where a subclass inherits the attributes and methods of its superclass(es) and can add or modify them as needed. \n",
    "A child class only inherits non private attribute or methods."
   ]
  },
  {
   "cell_type": "markdown",
   "id": "3bf7c8bf",
   "metadata": {},
   "source": [
    "Single and Multiple Inheritance:\n",
    "\n",
    "In most OOP languages, a class can inherit from only one superclass at a time, known as single inheritance.\n",
    "Some languages, like Python, support multiple inheritance, allowing a class to inherit from multiple superclasses simultaneously."
   ]
  },
  {
   "cell_type": "code",
   "execution_count": 4,
   "id": "e86641ff",
   "metadata": {},
   "outputs": [
    {
     "name": "stdout",
     "output_type": "stream",
     "text": [
      "this is a class method\n",
      "this is C class method\n"
     ]
    }
   ],
   "source": [
    "#single level inheritance\n",
    "class A:\n",
    "    def meth(self):\n",
    "        print(\"this is a class method\")\n",
    "class B(A):\n",
    "    def meth1(self):\n",
    "        print(\"this  is B class method\")\n",
    "class C:\n",
    "    def meth2(self):\n",
    "        print('this is C class method')\n",
    "#multiple inheritance\n",
    "class D(A,C):\n",
    "    def meth4(self):\n",
    "        print(\"this is D class method\")\n",
    "obj1=B()\n",
    "obj2=D()\n",
    "obj1.meth()\n",
    "obj2.meth2()"
   ]
  },
  {
   "cell_type": "markdown",
   "id": "ace0f2cd",
   "metadata": {},
   "source": [
    "Multilevel inheritance is a type of inheritance in object-oriented programming where a derived class inherits from another derived class"
   ]
  },
  {
   "cell_type": "code",
   "execution_count": 5,
   "id": "4d6f985c",
   "metadata": {},
   "outputs": [
    {
     "name": "stdout",
     "output_type": "stream",
     "text": [
      "Dog is barking...\n",
      "Animal is eating...\n"
     ]
    }
   ],
   "source": [
    "class Animal:\n",
    "    def eat(self):\n",
    "        print(\"Animal is eating...\")\n",
    "\n",
    "\n",
    "class Dog(Animal):\n",
    "    def bark(self):\n",
    "        print(\"Dog is barking...\")\n",
    "\n",
    "\n",
    "class Bulldog(Dog):\n",
    "    def guard(self):\n",
    "        print(\"Bulldog is guarding...\")\n",
    "obj=Bulldog()\n",
    "obj1=Animal()\n",
    "obj2=Dog()\n",
    "obj.bark()\n",
    "obj2.eat()"
   ]
  },
  {
   "cell_type": "markdown",
   "id": "3765de5a",
   "metadata": {},
   "source": [
    "Hierarchical Inheritance: when more than one chile class is derived from a single parent class. in other word we say one parent class and multiple child classes of it. "
   ]
  },
  {
   "cell_type": "code",
   "execution_count": 9,
   "id": "fbb560c7",
   "metadata": {},
   "outputs": [
    {
     "name": "stdout",
     "output_type": "stream",
     "text": [
      "I am a Animal\n",
      "Dog is barking...\n",
      "I am a Animal\n",
      "Cat is meu...\n",
      "I am a Animal\n",
      "Cow gives mile...\n"
     ]
    }
   ],
   "source": [
    "class Animal:\n",
    "    def __init__(self):\n",
    "        print('I am a Animal')\n",
    "class Dog(Animal):\n",
    "    def Bark(self):\n",
    "        print(\"Dog is barking...\")\n",
    "class Cat(Animal):\n",
    "    def meu(self):\n",
    "        print(\"Cat is meu...\")\n",
    "class Cow(Animal):\n",
    "    def milk(self):\n",
    "        print(\"Cow gives mile...\")\n",
    "obj1=Dog()\n",
    "obj1.Bark()\n",
    "obj2=Cat()\n",
    "obj2.meu()\n",
    "obj3=Cow()\n",
    "obj3.milk()   "
   ]
  },
  {
   "cell_type": "markdown",
   "id": "a81e0c20",
   "metadata": {},
   "source": [
    "Hybrid inheritance it is known as the Combination of two or more types of inheritance, also known as mixed or multiple inheritance, is a combination of multiple types of inheritance in object-oriented programming."
   ]
  },
  {
   "cell_type": "code",
   "execution_count": 14,
   "id": "ee47be90",
   "metadata": {},
   "outputs": [
    {
     "name": "stdout",
     "output_type": "stream",
     "text": [
      "Animal is eating...\n",
      "They have four legs\n"
     ]
    }
   ],
   "source": [
    "class Animal:\n",
    "    def eat(self):\n",
    "        print(\"Animal is eating...\")\n",
    "class Lion(Animal):\n",
    "    def legs(self):\n",
    "        print('They have four legs')\n",
    "class Dog(Animal):\n",
    "    def Bark(self):\n",
    "        print(\"Dog is barking...\")\n",
    "class Bulldog(Dog,Lion):\n",
    "    def security(self):\n",
    "        print('this dog is used for security purpose')\n",
    "obj=Dog()\n",
    "obj1=Bulldog()\n",
    "obj.eat()\n",
    "obj1.legs()"
   ]
  },
  {
   "cell_type": "markdown",
   "id": "f9c8ad65",
   "metadata": {},
   "source": [
    "MRO stands for Method Resolution Order, and it is a concept used in programming languages that support multiple inheritance, such as Python.\n",
    "In case of multiple inheritance a given attribute searches in current class if it's not found then searches in parent class.\n",
    "The MRO algorithm ensures that each class is visited only once. the MRO algorithm follows the C3 linearization algorithm left-to-right approach. \n",
    "The diamond rule, or diamond inheritance problem, it refer to ambiguity arises when two classes classB and classC are inherit from a superclass classA  and class D inherit both classB and classC if there is method m which is overridden method in one of classB and class C or both then ambiguity arise which of these method m class D should inherit "
   ]
  },
  {
   "cell_type": "code",
   "execution_count": 27,
   "id": "cfb8ee56",
   "metadata": {},
   "outputs": [
    {
     "name": "stdout",
     "output_type": "stream",
     "text": [
      "this is method of grandchild class D\n",
      "this is method of child class B\n",
      "[<class '__main__.D'>, <class '__main__.B'>, <class '__main__.C'>, <class '__main__.A'>, <class 'object'>]\n"
     ]
    }
   ],
   "source": [
    "class A:\n",
    "    def m(self):\n",
    "        print('this is method of parent class A')\n",
    "class B(A):\n",
    "     def m(self):\n",
    "        print('this is method of child class B')\n",
    "class C(A):\n",
    "     def m(self):\n",
    "        print('this is method of child class C')\n",
    "class D(B,C):\n",
    "     def m1(self):\n",
    "        print('this is method of grandchild class D')\n",
    "obj=D()\n",
    "obj.m1()\n",
    "obj.m()\n",
    "print(D.mro())"
   ]
  },
  {
   "cell_type": "code",
   "execution_count": 36,
   "id": "3c90532b",
   "metadata": {},
   "outputs": [
    {
     "name": "stdout",
     "output_type": "stream",
     "text": [
      "this is mother constructor\n",
      "this is father constructor\n",
      "this is mother constructor\n",
      "this is father constructor\n",
      "this is child1 constructor\n"
     ]
    }
   ],
   "source": [
    "class Father:\n",
    "    def __init__(self):\n",
    "        super().__init__()\n",
    "        print(\"this is father constructor\")\n",
    "class Mother:\n",
    "    def __init__(self):\n",
    "        print(\"this is mother constructor\")\n",
    "class Child1(Father,Mother):\n",
    "    def __init__(self):\n",
    "        super().__init__()\n",
    "        Father.__init__(self)#another one\n",
    "        print(\"this is child1 constructor\")\n",
    "obj=Child1()"
   ]
  },
  {
   "cell_type": "markdown",
   "id": "674f47b1",
   "metadata": {},
   "source": [
    "Polymorphism is a fundamental concept in object-oriented programming (OOP) it allows us to perform the same action in different ways.It provides a way to write code that can work with objects of multiple classes in a unified manner.\n",
    "\n",
    "Method Overloading:\n",
    "Method overloading is the process of defining multiple methods in a class with the same name but different parameter lists. In other words, methods with the same name but different parameters are considered overloaded methods. Key points to remember about method overloading:\n",
    "Method overloading occurs within a single class.\n",
    "Method overloading allows a class to provide multiple methods with the same name but different functionalities based on the different parameters they accept."
   ]
  },
  {
   "cell_type": "code",
   "execution_count": 17,
   "id": "4aafdfe4",
   "metadata": {},
   "outputs": [
    {
     "name": "stdout",
     "output_type": "stream",
     "text": [
      "this class is used to add numbers\n"
     ]
    },
    {
     "ename": "TypeError",
     "evalue": "Add.add() missing 1 required positional argument: 'c'",
     "output_type": "error",
     "traceback": [
      "\u001b[1;31m---------------------------------------------------------------------------\u001b[0m",
      "\u001b[1;31mTypeError\u001b[0m                                 Traceback (most recent call last)",
      "Cell \u001b[1;32mIn[17], line 10\u001b[0m\n\u001b[0;32m      8\u001b[0m         \u001b[38;5;28mprint\u001b[39m(a\u001b[38;5;241m+\u001b[39mb\u001b[38;5;241m+\u001b[39mc)\n\u001b[0;32m      9\u001b[0m obj\u001b[38;5;241m=\u001b[39mAdd()\n\u001b[1;32m---> 10\u001b[0m \u001b[43mobj\u001b[49m\u001b[38;5;241;43m.\u001b[39;49m\u001b[43madd\u001b[49m\u001b[43m(\u001b[49m\u001b[38;5;241;43m4\u001b[39;49m\u001b[43m,\u001b[49m\u001b[38;5;241;43m5\u001b[39;49m\u001b[43m)\u001b[49m\n\u001b[0;32m     11\u001b[0m obj\u001b[38;5;241m.\u001b[39madd(\u001b[38;5;241m1\u001b[39m,\u001b[38;5;241m5\u001b[39m,\u001b[38;5;241m7\u001b[39m)\n\u001b[0;32m     12\u001b[0m \u001b[38;5;66;03m#it is due to it always considered last methods parameter \u001b[39;00m\n",
      "\u001b[1;31mTypeError\u001b[0m: Add.add() missing 1 required positional argument: 'c'"
     ]
    }
   ],
   "source": [
    "#Method Overloading - it is not possible in python\n",
    "class Add:\n",
    "    def __init__(self):\n",
    "        print(\"this class is used to add numbers\")\n",
    "    def add(self,a,b):\n",
    "        print(a+b)\n",
    "    def add(self,a,b,c):\n",
    "        print(a+b+c)\n",
    "obj=Add()\n",
    "obj.add(4,5)\n",
    "obj.add(1,5,7)\n",
    "#it is due to it always considered last methods parameter "
   ]
  },
  {
   "cell_type": "code",
   "execution_count": 18,
   "id": "7fec6433",
   "metadata": {},
   "outputs": [
    {
     "name": "stdout",
     "output_type": "stream",
     "text": [
      "11\n",
      "25\n"
     ]
    }
   ],
   "source": [
    "#this is the how we enable method overloading in python\n",
    "class Student:\n",
    "    def Sum(self,a=None,b=None,c=None):\n",
    "        if a and b and c is not None:\n",
    "            print(a+b+c)\n",
    "        elif a and b is not None:\n",
    "            print(a+b)\n",
    "        else:\n",
    "            print(a)\n",
    "obj=Student()\n",
    "obj.Sum(5,6)\n",
    "obj.Sum(2,15,8)      "
   ]
  },
  {
   "cell_type": "markdown",
   "id": "d35708af",
   "metadata": {},
   "source": [
    "Method Overriding:\n",
    "Method overriding is the process of providing a different implementation for a method in a subclass that is already defined in its superclass. In other words, the subclass defines its own version of a method with the same name, return type, and parameters as the method in the superclass. The overridden method in the subclass is said to override the original method in the superclass."
   ]
  },
  {
   "cell_type": "code",
   "execution_count": 19,
   "id": "42eacf8c",
   "metadata": {},
   "outputs": [
    {
     "name": "stdout",
     "output_type": "stream",
     "text": [
      "area = 50.24\n",
      "area = 20\n",
      "perimeter = 18\n"
     ]
    }
   ],
   "source": [
    "#method overriding\n",
    "class Shape:\n",
    "    def __init__(self):\n",
    "        print(\"this class provide you area and paremeter\")\n",
    "    def area(self):\n",
    "        pass\n",
    "    def perimeter(self):\n",
    "        pass\n",
    "class Circle(Shape):\n",
    "    def __init__(self,r):\n",
    "        self.r=r\n",
    "    def area(self):\n",
    "        print(\"area =\",3.14*self.r*self.r)\n",
    "    def perimeter(self):\n",
    "        print(\"perimeter =\",2*3.14*self.r)\n",
    "class Rectangle(Shape):\n",
    "    def __init__(self,l,b):\n",
    "        self.l=l\n",
    "        self.b=b\n",
    "    def area(self):\n",
    "        print(\"area =\",self.l*self.b)\n",
    "    def perimeter(self):\n",
    "        print(\"perimeter =\",2*(self.l+self.b))\n",
    "obj=Circle(4)\n",
    "obj.area()\n",
    "obj.perimeter\n",
    "obj1=Rectangle(4,5)\n",
    "obj1.area()\n",
    "obj1.perimeter()"
   ]
  },
  {
   "cell_type": "markdown",
   "id": "a5b2c072",
   "metadata": {},
   "source": [
    "operator Overloading:\n",
    "    \n",
    "Operator overloading is a feature in programming languages that allows operators, such as +, -, *, /, and ==, to be defined and used with user-defined types (objects) in addition to their traditional uses with built-in types (like integers and floating-point numbers). It enables objects to behave like built-in types when it comes to using operators.\n",
    "\n",
    "By overloading operators, you can define how operators should behave when applied to instances of your own classes. "
   ]
  },
  {
   "cell_type": "code",
   "execution_count": 22,
   "id": "2ac80200",
   "metadata": {},
   "outputs": [
    {
     "name": "stdout",
     "output_type": "stream",
     "text": [
      "( 4 + 6 i)\n",
      "( 0 + 0 i)\n",
      "( -5 + 12 i)\n",
      "( 2 + 3 i)\n"
     ]
    },
    {
     "data": {
      "text/plain": [
       "3"
      ]
     },
     "execution_count": 22,
     "metadata": {},
     "output_type": "execute_result"
    }
   ],
   "source": [
    "class Complex:\n",
    "    def __init__(self,a,b):\n",
    "        self.real=a\n",
    "        self.img=b\n",
    "    def __add__(self,other):\n",
    "        new_real=self.real+other.real\n",
    "        new_img=self.img+other.img\n",
    "        print(\"(\",new_real,'+',new_img,\"i)\")\n",
    "    def __sub__(self,other):\n",
    "        new_real=self.real-other.real\n",
    "        new_img=self.img-other.img\n",
    "        print(\"(\",new_real,'+',new_img,\"i)\")\n",
    "    def __mul__(self,other):\n",
    "        new_real=(self.real*other.real)-(self.img*other.img)\n",
    "        new_img=(self.real*other.img)+(self.img*other.real)\n",
    "        print(\"(\",new_real,'+',new_img,\"i)\")\n",
    "    def display(self):\n",
    "        print(\"(\",self.real,'+',self.img,\"i)\")\n",
    "obj1=Complex(2,3)\n",
    "obj2=Complex(2,3)\n",
    "obj1+obj2\n",
    "obj1-obj2\n",
    "obj1*obj2\n",
    "obj1.display()\n",
    "obj2.img"
   ]
  },
  {
   "cell_type": "markdown",
   "id": "ae602d11",
   "metadata": {},
   "source": [
    "Introspection is a powerful feature of programming languages that allows programs to examine and manipulate their own structures and properties at runtime. It enables a program to gain knowledge about itself, such as the type of an object, its attributes and methods, and other relevant metadata.\n",
    "\n",
    "In Python, introspection is facilitated by several built-in functions and features. Let's discuss some of the commonly used ones:\n",
    "\n",
    "type(object): The type() function returns the type of an object.\n",
    "\n",
    "id(object): The id() function returns a unique identifier for an object.\n",
    "\n",
    "isinstance(object, class): The isinstance() function checks whether an object is an instance of a particular class. \n",
    "\n",
    "getattr(object, attribute_name[, default]): The getattr() function retrieves the value of an attribute from an object. It takes the object and the attribute name as arguments and optionally a default value. \n",
    "\n",
    "callable(object): The callable() function checks whether an object is callable, i.e., whether it can be called as a function.\n",
    "\n",
    "dir() :This function return list of methods and attributes associated with that object.\n",
    "str() :This function converts everything into a string"
   ]
  },
  {
   "cell_type": "code",
   "execution_count": 2,
   "id": "3867515f",
   "metadata": {},
   "outputs": [
    {
     "name": "stdout",
     "output_type": "stream",
     "text": [
      "<class 'module'>\n",
      "<class 'function'>\n",
      "<class 'type'>\n",
      "['__doc__', '__loader__', '__name__', '__package__', '__spec__', 'acos', 'acosh', 'asin', 'asinh', 'atan', 'atan2', 'atanh', 'cbrt', 'ceil', 'comb', 'copysign', 'cos', 'cosh', 'degrees', 'dist', 'e', 'erf', 'erfc', 'exp', 'exp2', 'expm1', 'fabs', 'factorial', 'floor', 'fmod', 'frexp', 'fsum', 'gamma', 'gcd', 'hypot', 'inf', 'isclose', 'isfinite', 'isinf', 'isnan', 'isqrt', 'lcm', 'ldexp', 'lgamma', 'log', 'log10', 'log1p', 'log2', 'modf', 'nan', 'nextafter', 'perm', 'pi', 'pow', 'prod', 'radians', 'remainder', 'sin', 'sinh', 'sqrt', 'tan', 'tanh', 'tau', 'trunc', 'ulp']\n"
     ]
    }
   ],
   "source": [
    "import math\n",
    "def fun():\n",
    "    pass\n",
    "class a:\n",
    "    pass\n",
    "print(type(math))\n",
    "print(type(fun))\n",
    "print(type(a))\n",
    "print(dir(math))#it display the discription of object passed"
   ]
  },
  {
   "cell_type": "code",
   "execution_count": 3,
   "id": "42704b81",
   "metadata": {},
   "outputs": [
    {
     "name": "stdout",
     "output_type": "stream",
     "text": [
      "Help on built-in function factorial in module math:\n",
      "\n",
      "factorial(n, /)\n",
      "    Find n!.\n",
      "    \n",
      "    Raise a ValueError if x is negative or non-integral.\n",
      "\n"
     ]
    }
   ],
   "source": [
    "help(math.factorial)"
   ]
  },
  {
   "cell_type": "code",
   "execution_count": 4,
   "id": "476356b7",
   "metadata": {},
   "outputs": [
    {
     "name": "stdout",
     "output_type": "stream",
     "text": [
      "hello\n",
      "1997747883472\n",
      "1997709596192\n",
      "['__class__', '__delattr__', '__dict__', '__dir__', '__doc__', '__eq__', '__format__', '__ge__', '__getattribute__', '__getstate__', '__gt__', '__hash__', '__init__', '__init_subclass__', '__le__', '__lt__', '__module__', '__ne__', '__new__', '__reduce__', '__reduce_ex__', '__repr__', '__setattr__', '__sizeof__', '__str__', '__subclasshook__', '__weakref__', 'age', 'display', 'name']\n"
     ]
    }
   ],
   "source": [
    "class Student:\n",
    "    def __init__(self,name,age):\n",
    "        self.name=name\n",
    "        self.age=age\n",
    "        print(\"hello\")\n",
    "    def display(self):\n",
    "        print(\"name =\",self.name)\n",
    "        print(\"age =\",self.age)\n",
    "class Marks(Student):\n",
    "    pass\n",
    "S=Student(\"arpit\",19)\n",
    "print(id(S))\n",
    "print(id(Student))\n",
    "print(dir(S))\n",
    "s=12"
   ]
  },
  {
   "cell_type": "code",
   "execution_count": 14,
   "id": "4c03c494",
   "metadata": {},
   "outputs": [
    {
     "name": "stdout",
     "output_type": "stream",
     "text": [
      "True\n",
      "True\n",
      "arpit\n",
      "{'name': 'arpit', 'age': 19}\n",
      "False\n",
      "True\n",
      "False\n"
     ]
    }
   ],
   "source": [
    "print(isinstance(S,Student))\n",
    "print(issubclass(Marks,Student))\n",
    "print(getattr(S,'name'))\n",
    "print(S.__dict__)\n",
    "print(hasattr(s,'name'))\n",
    "print(hasattr(S,'name'))\n",
    "print(callable(s))"
   ]
  },
  {
   "cell_type": "code",
   "execution_count": 15,
   "id": "e772de1a",
   "metadata": {},
   "outputs": [
    {
     "name": "stdout",
     "output_type": "stream",
     "text": [
      "10\n",
      "global 21\n",
      "local 15\n",
      "{'x': 10, 'a': 15}\n"
     ]
    }
   ],
   "source": [
    "a=21\n",
    "def myfun(x):\n",
    "    print(x)\n",
    "    a=15\n",
    "    print(\"global\",globals()['a'])\n",
    "    print(\"local\",a)\n",
    "    print(locals())\n",
    "myfun(10)\n"
   ]
  },
  {
   "cell_type": "markdown",
   "id": "31689cf3",
   "metadata": {},
   "source": [
    "Abstraction in Python is a concept that allows you to create abstract classes and abstract methods. Abstraction is a fundamental principle of object-oriented programming (OOP) that focuses on hiding implementation details and exposing only the essential features of a class Abstraction allows you to define common methods and properties in the abstract base class while forcing the subclasses to implement their own versions of those methods. This way, you can define a common interface for multiple related classes and provide a blueprint for their behavior."
   ]
  },
  {
   "cell_type": "code",
   "execution_count": 1,
   "id": "65336c67",
   "metadata": {},
   "outputs": [
    {
     "name": "stdout",
     "output_type": "stream",
     "text": [
      "Every car have four wheel\n",
      "120\n",
      "150\n"
     ]
    }
   ],
   "source": [
    "from abc import ABC,abstractmethod\n",
    "class car(ABC):\n",
    "    def show(self):\n",
    "        print(\"Every car have four wheel\")\n",
    "    @abstractmethod\n",
    "    def speed(self):\n",
    "        pass\n",
    "class tata(car):\n",
    "    def speed(self):\n",
    "        print(\"120\")\n",
    "class maruti(car):\n",
    "    def speed(self):\n",
    "        print(150)\n",
    "obj=tata()#object of abstract class never created\n",
    "obj.show()\n",
    "obj.speed()\n",
    "obj1=maruti()\n",
    "obj1.speed()"
   ]
  },
  {
   "cell_type": "code",
   "execution_count": 2,
   "id": "f0176b49",
   "metadata": {},
   "outputs": [
    {
     "name": "stdout",
     "output_type": "stream",
     "text": [
      "area: 78.53981633974483\n",
      "perimeter: 31.41592653589793\n"
     ]
    }
   ],
   "source": [
    "from abc import ABC,abstractmethod\n",
    "import math\n",
    "class shape(ABC):\n",
    "    def __init__(self):\n",
    "        print(\"all shapes have area and perimeter\")\n",
    "    @abstractmethod\n",
    "    def area(self):\n",
    "        pass\n",
    "    @abstractmethod\n",
    "    def perimeter(self):\n",
    "        pass\n",
    "class circle(shape):\n",
    "    def __init__(self,r):\n",
    "        self.r=r\n",
    "    def area(self):\n",
    "        print(\"area:\",math.pi*(self.r**2))\n",
    "    def perimeter(self):\n",
    "        print(\"perimeter:\",2*math.pi*self.r)\n",
    "obj=circle(5)\n",
    "obj.area()\n",
    "obj.perimeter()"
   ]
  },
  {
   "cell_type": "code",
   "execution_count": null,
   "id": "8e42feb4",
   "metadata": {},
   "outputs": [],
   "source": []
  }
 ],
 "metadata": {
  "kernelspec": {
   "display_name": "Python 3 (ipykernel)",
   "language": "python",
   "name": "python3"
  },
  "language_info": {
   "codemirror_mode": {
    "name": "ipython",
    "version": 3
   },
   "file_extension": ".py",
   "mimetype": "text/x-python",
   "name": "python",
   "nbconvert_exporter": "python",
   "pygments_lexer": "ipython3",
   "version": "3.11.1"
  }
 },
 "nbformat": 4,
 "nbformat_minor": 5
}
